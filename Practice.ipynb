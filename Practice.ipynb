{
 "cells": [
  {
   "cell_type": "code",
   "execution_count": 1,
   "id": "567ce3d0",
   "metadata": {},
   "outputs": [],
   "source": [
    "import numpy as np"
   ]
  },
  {
   "cell_type": "code",
   "execution_count": 4,
   "id": "54ebe554",
   "metadata": {},
   "outputs": [
    {
     "data": {
      "text/plain": [
       "array([0., 0., 0., 0., 0., 0., 0., 0., 0., 0.])"
      ]
     },
     "execution_count": 4,
     "metadata": {},
     "output_type": "execute_result"
    }
   ],
   "source": [
    "arr_zeros = np.zeros(10) \n",
    "arr_zeros"
   ]
  },
  {
   "cell_type": "code",
   "execution_count": 5,
   "id": "94e94f85",
   "metadata": {},
   "outputs": [
    {
     "data": {
      "text/plain": [
       "1"
      ]
     },
     "execution_count": 5,
     "metadata": {},
     "output_type": "execute_result"
    }
   ],
   "source": [
    "np.ndim(arr_zeros)"
   ]
  },
  {
   "cell_type": "code",
   "execution_count": 7,
   "id": "6b2aba0f",
   "metadata": {},
   "outputs": [
    {
     "data": {
      "text/plain": [
       "array([0, 0, 0, 0, 0, 0, 0, 0, 0, 0])"
      ]
     },
     "execution_count": 7,
     "metadata": {},
     "output_type": "execute_result"
    }
   ],
   "source": [
    "arr_zeros = np.zeros(10, dtype=int)\n",
    "arr_zeros"
   ]
  },
  {
   "cell_type": "code",
   "execution_count": 10,
   "id": "6abb7ec3",
   "metadata": {},
   "outputs": [
    {
     "data": {
      "text/plain": [
       "array([[0, 0, 0, 0, 0],\n",
       "       [0, 0, 0, 0, 0]])"
      ]
     },
     "execution_count": 10,
     "metadata": {},
     "output_type": "execute_result"
    }
   ],
   "source": [
    "a = arr_zeros.reshape(2,5)  #If I don't save reshaped zero array in a vaiable and without saving it.... \n",
    "a                           #into variable a and find it's dimension using np.dim it will return 1 in output\n",
    "                            #as reshape just change in shape temporarily(so it will return dimension of origional array) see In[23] and In[24] here I have changed \n",
    "                            #arr_zeros in 3D array but it's size is still 1 bcz arr_zeros is still 1D and it is\n",
    "                            #showing arr_zeros dimension if I save it in any var then np.ndim(var) will return o/p 3"
   ]
  },
  {
   "cell_type": "code",
   "execution_count": 11,
   "id": "0a612686",
   "metadata": {},
   "outputs": [
    {
     "data": {
      "text/plain": [
       "2"
      ]
     },
     "execution_count": 11,
     "metadata": {},
     "output_type": "execute_result"
    }
   ],
   "source": [
    "np.ndim(a)                           "
   ]
  },
  {
   "cell_type": "code",
   "execution_count": 53,
   "id": "7400e685",
   "metadata": {},
   "outputs": [
    {
     "data": {
      "text/plain": [
       "array([[[0, 0, 0, 0, 0],\n",
       "        [0, 0, 0, 0, 0]]])"
      ]
     },
     "execution_count": 53,
     "metadata": {},
     "output_type": "execute_result"
    }
   ],
   "source": [
    "arr_zeros.reshape(1,2,5)"
   ]
  },
  {
   "cell_type": "code",
   "execution_count": 54,
   "id": "7c0d1618",
   "metadata": {},
   "outputs": [
    {
     "data": {
      "text/plain": [
       "1"
      ]
     },
     "execution_count": 54,
     "metadata": {},
     "output_type": "execute_result"
    }
   ],
   "source": [
    "np.ndim(arr_zeros)"
   ]
  },
  {
   "cell_type": "code",
   "execution_count": 55,
   "id": "55bbf447",
   "metadata": {},
   "outputs": [],
   "source": [
    "arr_zeros = np.zeros((3,2), dtype=int)"
   ]
  },
  {
   "cell_type": "code",
   "execution_count": 56,
   "id": "bada37a0",
   "metadata": {},
   "outputs": [
    {
     "data": {
      "text/plain": [
       "array([[1., 1.],\n",
       "       [1., 1.],\n",
       "       [1., 1.]])"
      ]
     },
     "execution_count": 56,
     "metadata": {},
     "output_type": "execute_result"
    }
   ],
   "source": [
    "arr_ones = np.ones((3,2))\n",
    "arr_ones"
   ]
  },
  {
   "cell_type": "code",
   "execution_count": 57,
   "id": "04ea3c4c",
   "metadata": {},
   "outputs": [
    {
     "data": {
      "text/plain": [
       "array([[1., 0., 0., 0., 0.],\n",
       "       [0., 1., 0., 0., 0.],\n",
       "       [0., 0., 1., 0., 0.],\n",
       "       [0., 0., 0., 1., 0.],\n",
       "       [0., 0., 0., 0., 1.]])"
      ]
     },
     "execution_count": 57,
     "metadata": {},
     "output_type": "execute_result"
    }
   ],
   "source": [
    "arr_identity = np.identity(5)\n",
    "arr_identity"
   ]
  },
  {
   "cell_type": "code",
   "execution_count": 58,
   "id": "d80fabd7",
   "metadata": {},
   "outputs": [
    {
     "data": {
      "text/plain": [
       "2"
      ]
     },
     "execution_count": 58,
     "metadata": {},
     "output_type": "execute_result"
    }
   ],
   "source": [
    "np.ndim(arr_identity)"
   ]
  },
  {
   "cell_type": "code",
   "execution_count": 59,
   "id": "2f4648dc",
   "metadata": {},
   "outputs": [
    {
     "ename": "TypeError",
     "evalue": "'tuple' object cannot be interpreted as an integer",
     "output_type": "error",
     "traceback": [
      "\u001b[1;31m---------------------------------------------------------------------------\u001b[0m",
      "\u001b[1;31mTypeError\u001b[0m                                 Traceback (most recent call last)",
      "\u001b[1;32m~\\AppData\\Local\\Temp\\ipykernel_5672\\1563805956.py\u001b[0m in \u001b[0;36m<module>\u001b[1;34m\u001b[0m\n\u001b[1;32m----> 1\u001b[1;33m \u001b[0marr_identity2\u001b[0m \u001b[1;33m=\u001b[0m \u001b[0mnp\u001b[0m\u001b[1;33m.\u001b[0m\u001b[0midentity\u001b[0m\u001b[1;33m(\u001b[0m\u001b[1;33m(\u001b[0m\u001b[1;36m5\u001b[0m\u001b[1;33m,\u001b[0m\u001b[1;36m2\u001b[0m\u001b[1;33m)\u001b[0m\u001b[1;33m)\u001b[0m\u001b[1;33m\u001b[0m\u001b[1;33m\u001b[0m\u001b[0m\n\u001b[0m\u001b[0;32m      2\u001b[0m \u001b[0marr_identity2\u001b[0m\u001b[1;33m\u001b[0m\u001b[1;33m\u001b[0m\u001b[0m\n",
      "\u001b[1;32m~\\anaconda3\\lib\\site-packages\\numpy\\core\\numeric.py\u001b[0m in \u001b[0;36midentity\u001b[1;34m(n, dtype, like)\u001b[0m\n\u001b[0;32m   2165\u001b[0m \u001b[1;33m\u001b[0m\u001b[0m\n\u001b[0;32m   2166\u001b[0m     \u001b[1;32mfrom\u001b[0m \u001b[0mnumpy\u001b[0m \u001b[1;32mimport\u001b[0m \u001b[0meye\u001b[0m\u001b[1;33m\u001b[0m\u001b[1;33m\u001b[0m\u001b[0m\n\u001b[1;32m-> 2167\u001b[1;33m     \u001b[1;32mreturn\u001b[0m \u001b[0meye\u001b[0m\u001b[1;33m(\u001b[0m\u001b[0mn\u001b[0m\u001b[1;33m,\u001b[0m \u001b[0mdtype\u001b[0m\u001b[1;33m=\u001b[0m\u001b[0mdtype\u001b[0m\u001b[1;33m,\u001b[0m \u001b[0mlike\u001b[0m\u001b[1;33m=\u001b[0m\u001b[0mlike\u001b[0m\u001b[1;33m)\u001b[0m\u001b[1;33m\u001b[0m\u001b[1;33m\u001b[0m\u001b[0m\n\u001b[0m\u001b[0;32m   2168\u001b[0m \u001b[1;33m\u001b[0m\u001b[0m\n\u001b[0;32m   2169\u001b[0m \u001b[1;33m\u001b[0m\u001b[0m\n",
      "\u001b[1;32m~\\anaconda3\\lib\\site-packages\\numpy\\lib\\twodim_base.py\u001b[0m in \u001b[0;36meye\u001b[1;34m(N, M, k, dtype, order, like)\u001b[0m\n\u001b[0;32m    212\u001b[0m     \u001b[1;32mif\u001b[0m \u001b[0mM\u001b[0m \u001b[1;32mis\u001b[0m \u001b[1;32mNone\u001b[0m\u001b[1;33m:\u001b[0m\u001b[1;33m\u001b[0m\u001b[1;33m\u001b[0m\u001b[0m\n\u001b[0;32m    213\u001b[0m         \u001b[0mM\u001b[0m \u001b[1;33m=\u001b[0m \u001b[0mN\u001b[0m\u001b[1;33m\u001b[0m\u001b[1;33m\u001b[0m\u001b[0m\n\u001b[1;32m--> 214\u001b[1;33m     \u001b[0mm\u001b[0m \u001b[1;33m=\u001b[0m \u001b[0mzeros\u001b[0m\u001b[1;33m(\u001b[0m\u001b[1;33m(\u001b[0m\u001b[0mN\u001b[0m\u001b[1;33m,\u001b[0m \u001b[0mM\u001b[0m\u001b[1;33m)\u001b[0m\u001b[1;33m,\u001b[0m \u001b[0mdtype\u001b[0m\u001b[1;33m=\u001b[0m\u001b[0mdtype\u001b[0m\u001b[1;33m,\u001b[0m \u001b[0morder\u001b[0m\u001b[1;33m=\u001b[0m\u001b[0morder\u001b[0m\u001b[1;33m)\u001b[0m\u001b[1;33m\u001b[0m\u001b[1;33m\u001b[0m\u001b[0m\n\u001b[0m\u001b[0;32m    215\u001b[0m     \u001b[1;32mif\u001b[0m \u001b[0mk\u001b[0m \u001b[1;33m>=\u001b[0m \u001b[0mM\u001b[0m\u001b[1;33m:\u001b[0m\u001b[1;33m\u001b[0m\u001b[1;33m\u001b[0m\u001b[0m\n\u001b[0;32m    216\u001b[0m         \u001b[1;32mreturn\u001b[0m \u001b[0mm\u001b[0m\u001b[1;33m\u001b[0m\u001b[1;33m\u001b[0m\u001b[0m\n",
      "\u001b[1;31mTypeError\u001b[0m: 'tuple' object cannot be interpreted as an integer"
     ]
    }
   ],
   "source": [
    "arr_identity2 = np.identity((5,2))\n",
    "arr_identity2"
   ]
  },
  {
   "cell_type": "code",
   "execution_count": 12,
   "id": "5285bee9",
   "metadata": {},
   "outputs": [
    {
     "ename": "TypeError",
     "evalue": "Cannot interpret '5' as a data type",
     "output_type": "error",
     "traceback": [
      "\u001b[1;31m---------------------------------------------------------------------------\u001b[0m",
      "\u001b[1;31mTypeError\u001b[0m                                 Traceback (most recent call last)",
      "\u001b[1;32m~\\AppData\\Local\\Temp\\ipykernel_13148\\3550263138.py\u001b[0m in \u001b[0;36m<module>\u001b[1;34m\u001b[0m\n\u001b[1;32m----> 1\u001b[1;33m \u001b[0marr_identity2\u001b[0m \u001b[1;33m=\u001b[0m \u001b[0mnp\u001b[0m\u001b[1;33m.\u001b[0m\u001b[0midentity\u001b[0m\u001b[1;33m(\u001b[0m\u001b[1;36m5\u001b[0m\u001b[1;33m,\u001b[0m\u001b[1;36m5\u001b[0m\u001b[1;33m)\u001b[0m        \u001b[1;31m# or np.identity((5,5)) will also show error only np.identity(5) will work\u001b[0m\u001b[1;33m\u001b[0m\u001b[1;33m\u001b[0m\u001b[0m\n\u001b[0m\u001b[0;32m      2\u001b[0m \u001b[0marr_identity2\u001b[0m\u001b[1;33m\u001b[0m\u001b[1;33m\u001b[0m\u001b[0m\n",
      "\u001b[1;32m~\\anaconda3\\lib\\site-packages\\numpy\\core\\numeric.py\u001b[0m in \u001b[0;36midentity\u001b[1;34m(n, dtype, like)\u001b[0m\n\u001b[0;32m   2165\u001b[0m \u001b[1;33m\u001b[0m\u001b[0m\n\u001b[0;32m   2166\u001b[0m     \u001b[1;32mfrom\u001b[0m \u001b[0mnumpy\u001b[0m \u001b[1;32mimport\u001b[0m \u001b[0meye\u001b[0m\u001b[1;33m\u001b[0m\u001b[1;33m\u001b[0m\u001b[0m\n\u001b[1;32m-> 2167\u001b[1;33m     \u001b[1;32mreturn\u001b[0m \u001b[0meye\u001b[0m\u001b[1;33m(\u001b[0m\u001b[0mn\u001b[0m\u001b[1;33m,\u001b[0m \u001b[0mdtype\u001b[0m\u001b[1;33m=\u001b[0m\u001b[0mdtype\u001b[0m\u001b[1;33m,\u001b[0m \u001b[0mlike\u001b[0m\u001b[1;33m=\u001b[0m\u001b[0mlike\u001b[0m\u001b[1;33m)\u001b[0m\u001b[1;33m\u001b[0m\u001b[1;33m\u001b[0m\u001b[0m\n\u001b[0m\u001b[0;32m   2168\u001b[0m \u001b[1;33m\u001b[0m\u001b[0m\n\u001b[0;32m   2169\u001b[0m \u001b[1;33m\u001b[0m\u001b[0m\n",
      "\u001b[1;32m~\\anaconda3\\lib\\site-packages\\numpy\\lib\\twodim_base.py\u001b[0m in \u001b[0;36meye\u001b[1;34m(N, M, k, dtype, order, like)\u001b[0m\n\u001b[0;32m    212\u001b[0m     \u001b[1;32mif\u001b[0m \u001b[0mM\u001b[0m \u001b[1;32mis\u001b[0m \u001b[1;32mNone\u001b[0m\u001b[1;33m:\u001b[0m\u001b[1;33m\u001b[0m\u001b[1;33m\u001b[0m\u001b[0m\n\u001b[0;32m    213\u001b[0m         \u001b[0mM\u001b[0m \u001b[1;33m=\u001b[0m \u001b[0mN\u001b[0m\u001b[1;33m\u001b[0m\u001b[1;33m\u001b[0m\u001b[0m\n\u001b[1;32m--> 214\u001b[1;33m     \u001b[0mm\u001b[0m \u001b[1;33m=\u001b[0m \u001b[0mzeros\u001b[0m\u001b[1;33m(\u001b[0m\u001b[1;33m(\u001b[0m\u001b[0mN\u001b[0m\u001b[1;33m,\u001b[0m \u001b[0mM\u001b[0m\u001b[1;33m)\u001b[0m\u001b[1;33m,\u001b[0m \u001b[0mdtype\u001b[0m\u001b[1;33m=\u001b[0m\u001b[0mdtype\u001b[0m\u001b[1;33m,\u001b[0m \u001b[0morder\u001b[0m\u001b[1;33m=\u001b[0m\u001b[0morder\u001b[0m\u001b[1;33m)\u001b[0m\u001b[1;33m\u001b[0m\u001b[1;33m\u001b[0m\u001b[0m\n\u001b[0m\u001b[0;32m    215\u001b[0m     \u001b[1;32mif\u001b[0m \u001b[0mk\u001b[0m \u001b[1;33m>=\u001b[0m \u001b[0mM\u001b[0m\u001b[1;33m:\u001b[0m\u001b[1;33m\u001b[0m\u001b[1;33m\u001b[0m\u001b[0m\n\u001b[0;32m    216\u001b[0m         \u001b[1;32mreturn\u001b[0m \u001b[0mm\u001b[0m\u001b[1;33m\u001b[0m\u001b[1;33m\u001b[0m\u001b[0m\n",
      "\u001b[1;31mTypeError\u001b[0m: Cannot interpret '5' as a data type"
     ]
    }
   ],
   "source": [
    "arr_identity2 = np.identity(5,5)        # or np.identity((5,5)) will also show error only np.identity(5) will work\n",
    "arr_identity2"
   ]
  },
  {
   "cell_type": "code",
   "execution_count": null,
   "id": "085e333c",
   "metadata": {},
   "outputs": [],
   "source": [
    "arr_identity3d = np.identity(1,5,5)   # can't create identical 3d array\n",
    "arr_identity3d"
   ]
  },
  {
   "cell_type": "code",
   "execution_count": 4,
   "id": "495befac",
   "metadata": {},
   "outputs": [
    {
     "data": {
      "text/plain": [
       "array([100, 101, 102, 103, 104, 105, 106, 107, 108, 109, 110, 111, 112,\n",
       "       113, 114, 115, 116, 117, 118, 119, 120])"
      ]
     },
     "execution_count": 4,
     "metadata": {},
     "output_type": "execute_result"
    }
   ],
   "source": [
    "arr_int = np.arange(100,121)\n",
    "arr_int"
   ]
  },
  {
   "cell_type": "markdown",
   "id": "a54ea6da",
   "metadata": {},
   "source": [
    "# Q.  arr = np.arange(1,13) Reshape this into a 3x4 matrix, Extract Second Row, Extract Last Row\n"
   ]
  },
  {
   "cell_type": "code",
   "execution_count": 3,
   "id": "fabf1f94",
   "metadata": {},
   "outputs": [
    {
     "name": "stdout",
     "output_type": "stream",
     "text": [
      "Reshaped array:\n",
      " [[ 1  2  3  4]\n",
      " [ 5  6  7  8]\n",
      " [ 9 10 11 12]]\n",
      "second row: [5 6 7 8]\n",
      "Last Column: [ 4  8 12]\n"
     ]
    }
   ],
   "source": [
    "arr = np.arange(1,13).reshape(3,4)\n",
    "second_row = arr[1]                                     \n",
    "last_column = arr[0:3:1,3]      # or   last_column = arr[:,-1] # or  last_column = arr[::,3] # or last_column =[::,3::]\n",
    "print(\"Reshaped array:\\n\",arr)\n",
    "print(\"second row:\",second_row)\n",
    "print(\"Last Column:\",last_column)"
   ]
  },
  {
   "cell_type": "markdown",
   "id": "0f099c3b",
   "metadata": {},
   "source": [
    "# Q. Create an array of int from 1 to 10 then: a. Square each element b. Compute sum of the squared values c.Find the square root of each original element"
   ]
  },
  {
   "cell_type": "code",
   "execution_count": 16,
   "id": "6ac3181c",
   "metadata": {},
   "outputs": [
    {
     "data": {
      "text/plain": [
       "array([ 1,  2,  3,  4,  5,  6,  7,  8,  9, 10])"
      ]
     },
     "execution_count": 16,
     "metadata": {},
     "output_type": "execute_result"
    }
   ],
   "source": [
    "arr_int1 = np.arange(1,11)\n",
    "arr_int1"
   ]
  },
  {
   "cell_type": "code",
   "execution_count": 17,
   "id": "4ebdb164",
   "metadata": {},
   "outputs": [
    {
     "data": {
      "text/plain": [
       "array([  1,   4,   9,  16,  25,  36,  49,  64,  81, 100], dtype=int32)"
      ]
     },
     "execution_count": 17,
     "metadata": {},
     "output_type": "execute_result"
    }
   ],
   "source": [
    "b=arr_int1 ** 2                # or np.square(arr_int1)\n",
    "b"
   ]
  },
  {
   "cell_type": "code",
   "execution_count": 18,
   "id": "bf337090",
   "metadata": {},
   "outputs": [
    {
     "data": {
      "text/plain": [
       "385"
      ]
     },
     "execution_count": 18,
     "metadata": {},
     "output_type": "execute_result"
    }
   ],
   "source": [
    "np.sum(b)"
   ]
  },
  {
   "cell_type": "code",
   "execution_count": null,
   "id": "f817c0c9",
   "metadata": {},
   "outputs": [],
   "source": [
    "np.sqrt(arr_int1)"
   ]
  },
  {
   "cell_type": "markdown",
   "id": "73d70c52",
   "metadata": {},
   "source": [
    "# Q. Boolean Indexing and Masking: Create an array of 20 random integers between 1 and 100 then: a. Print all the elements greater than 50 b. Replace all odd numbers with -1\n"
   ]
  },
  {
   "cell_type": "code",
   "execution_count": 5,
   "id": "d081ac75",
   "metadata": {},
   "outputs": [
    {
     "data": {
      "text/plain": [
       "array([68, 61,  5, 82, 23, 79, 48, 43, 12, 73, 16,  2, 34, 35, 30, 63, 66,\n",
       "       94, 55, 52])"
      ]
     },
     "execution_count": 5,
     "metadata": {},
     "output_type": "execute_result"
    }
   ],
   "source": [
    "arr_int2 = np.random.randint(1,101,size=20)\n",
    "arr_int2"
   ]
  },
  {
   "cell_type": "code",
   "execution_count": 6,
   "id": "3b9c230c",
   "metadata": {},
   "outputs": [
    {
     "name": "stdout",
     "output_type": "stream",
     "text": [
      "Elements greater than 50 are: [68 61 82 79 73 63 66 94 55 52]\n"
     ]
    }
   ],
   "source": [
    "arr_int2>50\n",
    "a=arr_int2[arr_int2>50]\n",
    "print(\"Elements greater than 50 are:\",a)"
   ]
  },
  {
   "cell_type": "code",
   "execution_count": 7,
   "id": "5e32059d",
   "metadata": {},
   "outputs": [
    {
     "data": {
      "text/plain": [
       "array([61,  5, 23, 79, 43, 73, 35, 63, 55])"
      ]
     },
     "execution_count": 7,
     "metadata": {},
     "output_type": "execute_result"
    }
   ],
   "source": [
    "arr_int2[arr_int2 % 2 != 0]"
   ]
  },
  {
   "cell_type": "code",
   "execution_count": 22,
   "id": "19b76ee8",
   "metadata": {},
   "outputs": [
    {
     "data": {
      "text/plain": [
       "array([ 26,  60,  66,  -1, 100,  -1,  38,  18,  -1,  -1,  -1,  96,   8,\n",
       "        -1,  12,  -1,  -1,  52,  20,  -1])"
      ]
     },
     "execution_count": 22,
     "metadata": {},
     "output_type": "execute_result"
    }
   ],
   "source": [
    "arr_int2[arr_int2 % 2 != 0] = -1\n",
    "arr_int2"
   ]
  },
  {
   "cell_type": "code",
   "execution_count": null,
   "id": "815f4235",
   "metadata": {},
   "outputs": [],
   "source": [
    "arr_int2"
   ]
  },
  {
   "cell_type": "markdown",
   "id": "4643a1d4",
   "metadata": {},
   "source": [
    "# Q. Given two matrices:\n",
    "    Compute the element wise addition and multiplication,\n",
    "    Compute the matrix prod\n",
    "    Transpose matrix a"
   ]
  },
  {
   "cell_type": "code",
   "execution_count": 12,
   "id": "a289be40",
   "metadata": {},
   "outputs": [
    {
     "data": {
      "text/plain": [
       "array([[1, 2],\n",
       "       [3, 4]])"
      ]
     },
     "execution_count": 12,
     "metadata": {},
     "output_type": "execute_result"
    }
   ],
   "source": [
    "a = np.array([[1,2],[3,4]])\n",
    "a"
   ]
  },
  {
   "cell_type": "code",
   "execution_count": 13,
   "id": "5ba39284",
   "metadata": {},
   "outputs": [
    {
     "data": {
      "text/plain": [
       "array([[5, 6],\n",
       "       [7, 8]])"
      ]
     },
     "execution_count": 13,
     "metadata": {},
     "output_type": "execute_result"
    }
   ],
   "source": [
    "b = np.array([[5,6],[7,8]])\n",
    "b"
   ]
  },
  {
   "cell_type": "code",
   "execution_count": 14,
   "id": "4e61d2b9",
   "metadata": {},
   "outputs": [
    {
     "name": "stdout",
     "output_type": "stream",
     "text": [
      "Addition:\n",
      " [[ 6  8]\n",
      " [10 12]]\n"
     ]
    }
   ],
   "source": [
    "a+b\n",
    "print(\"Addition:\\n\", a+b)"
   ]
  },
  {
   "cell_type": "code",
   "execution_count": 15,
   "id": "9585ad77",
   "metadata": {},
   "outputs": [
    {
     "name": "stdout",
     "output_type": "stream",
     "text": [
      "multiplication:\n",
      " [[ 5 12]\n",
      " [21 32]]\n"
     ]
    }
   ],
   "source": [
    "a*b\n",
    "print(\"multiplication:\\n\", a*b)"
   ]
  },
  {
   "cell_type": "code",
   "execution_count": 16,
   "id": "9b88a601",
   "metadata": {},
   "outputs": [
    {
     "data": {
      "text/plain": [
       "array([[19, 22],\n",
       "       [43, 50]])"
      ]
     },
     "execution_count": 16,
     "metadata": {},
     "output_type": "execute_result"
    }
   ],
   "source": [
    "np.dot(a,b)"
   ]
  },
  {
   "cell_type": "code",
   "execution_count": 17,
   "id": "39a0e5f5",
   "metadata": {},
   "outputs": [
    {
     "name": "stdout",
     "output_type": "stream",
     "text": [
      "Transpose of a:\n",
      " [[1 3]\n",
      " [2 4]]\n"
     ]
    }
   ],
   "source": [
    "a.T\n",
    "print(\"Transpose of a:\\n\",a.T)"
   ]
  },
  {
   "cell_type": "code",
   "execution_count": 20,
   "id": "70a61bc1",
   "metadata": {},
   "outputs": [
    {
     "name": "stdout",
     "output_type": "stream",
     "text": [
      "Mean of each row: [5.5 7.5]\n"
     ]
    }
   ],
   "source": [
    "mean_row = np.mean(b,axis = 1)\n",
    "print(\"Mean of each row:\", mean_row)"
   ]
  },
  {
   "cell_type": "code",
   "execution_count": 21,
   "id": "23546104",
   "metadata": {},
   "outputs": [
    {
     "name": "stdout",
     "output_type": "stream",
     "text": [
      "max_value_col:\n",
      " [7 8]\n"
     ]
    }
   ],
   "source": [
    "max_value_col = np.max(b, axis=0)\n",
    "print(\"max_value_col:\\n\", max_value_col)"
   ]
  },
  {
   "cell_type": "markdown",
   "id": "f29c1ffd",
   "metadata": {},
   "source": [
    "# a.Generate a 4x4 matrix of random floats b/w 0 and 1. b. set the random seed to 42 for reproducibility c. Replace all the values less than 0.5 with 0"
   ]
  },
  {
   "cell_type": "code",
   "execution_count": 22,
   "id": "dc306223",
   "metadata": {},
   "outputs": [
    {
     "data": {
      "text/plain": [
       "array([[0.93569019, 0.35673019, 0.06250045, 0.75023768],\n",
       "       [0.23023426, 0.49396643, 0.76148937, 0.50325798],\n",
       "       [0.77751458, 0.56862406, 0.15276285, 0.69805709],\n",
       "       [0.79340841, 0.76044762, 0.71363944, 0.42489565]])"
      ]
     },
     "execution_count": 22,
     "metadata": {},
     "output_type": "execute_result"
    }
   ],
   "source": [
    "arr_float = np.random.random(16).reshape(4,4)\n",
    "arr_float"
   ]
  },
  {
   "cell_type": "code",
   "execution_count": 28,
   "id": "e8d3f06b",
   "metadata": {},
   "outputs": [
    {
     "data": {
      "text/plain": [
       "array([[0.37454012, 0.95071431, 0.73199394, 0.59865848],\n",
       "       [0.15601864, 0.15599452, 0.05808361, 0.86617615],\n",
       "       [0.60111501, 0.70807258, 0.02058449, 0.96990985],\n",
       "       [0.83244264, 0.21233911, 0.18182497, 0.18340451]])"
      ]
     },
     "execution_count": 28,
     "metadata": {},
     "output_type": "execute_result"
    }
   ],
   "source": [
    "np.random.seed(42)\n",
    "arr_float1 = np.random.rand(4,4)\n",
    "arr_float1"
   ]
  },
  {
   "cell_type": "code",
   "execution_count": 25,
   "id": "40b2c094",
   "metadata": {},
   "outputs": [
    {
     "data": {
      "text/plain": [
       "array([0.37454012, 0.15601864, 0.15599452, 0.05808361, 0.02058449,\n",
       "       0.21233911, 0.18182497, 0.18340451])"
      ]
     },
     "execution_count": 25,
     "metadata": {},
     "output_type": "execute_result"
    }
   ],
   "source": [
    "arr_float1[arr_float1<0.5]"
   ]
  },
  {
   "cell_type": "code",
   "execution_count": null,
   "id": "b9ff01f1",
   "metadata": {},
   "outputs": [],
   "source": [
    "arr_float1[arr_float1<0.5] = 0\n",
    "print(\"Array after replacing value with 0:\\n\",arr_float1)"
   ]
  },
  {
   "cell_type": "markdown",
   "id": "dcdeaef4",
   "metadata": {},
   "source": [
    "# Flattening and Sorting"
   ]
  },
  {
   "cell_type": "code",
   "execution_count": 29,
   "id": "5553e8d5",
   "metadata": {},
   "outputs": [
    {
     "name": "stdout",
     "output_type": "stream",
     "text": [
      "Original Array:\n",
      " [[12  5  7]\n",
      " [ 1  9  3]]\n",
      "Flattened Array: [12  5  7  1  9  3]\n",
      "Sorted in descending order: [12  9  7  5  3  1]\n"
     ]
    }
   ],
   "source": [
    "arr_f = np.array([[12,5,7],[1,9,3]])\n",
    "flattened = arr_f.flatten()\n",
    "sorted_desc = np.sort(flattened)[::-1]\n",
    "print(\"Original Array:\\n\",arr_f)\n",
    "print(\"Flattened Array:\", flattened)\n",
    "print(\"Sorted in descending order:\", sorted_desc)"
   ]
  },
  {
   "cell_type": "code",
   "execution_count": 30,
   "id": "45637f96",
   "metadata": {},
   "outputs": [
    {
     "data": {
      "text/plain": [
       "array([[ 0,  1,  2,  3],\n",
       "       [ 4,  5,  6,  7],\n",
       "       [ 8,  9, 10, 11],\n",
       "       [12, 13, 14, 15],\n",
       "       [16, 17, 18, 19],\n",
       "       [20, 21, 22, 23]])"
      ]
     },
     "execution_count": 30,
     "metadata": {},
     "output_type": "execute_result"
    }
   ],
   "source": [
    "y = np.arange(24).reshape(6,4)\n",
    "y"
   ]
  },
  {
   "cell_type": "code",
   "execution_count": 32,
   "id": "7bfaccca",
   "metadata": {},
   "outputs": [
    {
     "data": {
      "text/plain": [
       "6"
      ]
     },
     "execution_count": 32,
     "metadata": {},
     "output_type": "execute_result"
    }
   ],
   "source": [
    "# Syntax to get number of rows of an array\n",
    "no_rows = y.shape[0]\n",
    "no_rows"
   ]
  },
  {
   "cell_type": "code",
   "execution_count": 33,
   "id": "0915108e",
   "metadata": {},
   "outputs": [
    {
     "data": {
      "text/plain": [
       "4"
      ]
     },
     "execution_count": 33,
     "metadata": {},
     "output_type": "execute_result"
    }
   ],
   "source": [
    "# Syntax to get number of columns of an array\n",
    "no_cols = y.shape[1]\n",
    "no_cols"
   ]
  },
  {
   "cell_type": "code",
   "execution_count": 34,
   "id": "a492bfda",
   "metadata": {},
   "outputs": [
    {
     "data": {
      "text/plain": [
       "array([[ 0,  1],\n",
       "       [ 4,  5],\n",
       "       [ 8,  9],\n",
       "       [12, 13],\n",
       "       [16, 17],\n",
       "       [20, 21]])"
      ]
     },
     "execution_count": 34,
     "metadata": {},
     "output_type": "execute_result"
    }
   ],
   "source": [
    "arr_sliced = y[::,0:2]\n",
    "arr_sliced"
   ]
  },
  {
   "cell_type": "code",
   "execution_count": 35,
   "id": "16209b61",
   "metadata": {},
   "outputs": [
    {
     "data": {
      "text/plain": [
       "array([[ 2,  3],\n",
       "       [ 6,  7],\n",
       "       [10, 11],\n",
       "       [14, 15],\n",
       "       [18, 19],\n",
       "       [22, 23]])"
      ]
     },
     "execution_count": 35,
     "metadata": {},
     "output_type": "execute_result"
    }
   ],
   "source": [
    "arr_sliced1 = y[::,2:4]\n",
    "arr_sliced1"
   ]
  },
  {
   "cell_type": "code",
   "execution_count": 36,
   "id": "4524bb2f",
   "metadata": {},
   "outputs": [
    {
     "data": {
      "text/plain": [
       "array([[ 0,  1,  2,  3],\n",
       "       [ 4,  5,  6,  7],\n",
       "       [ 8,  9, 10, 11],\n",
       "       [12, 13, 14, 15],\n",
       "       [16, 17, 18, 19],\n",
       "       [20, 21, 22, 23]])"
      ]
     },
     "execution_count": 36,
     "metadata": {},
     "output_type": "execute_result"
    }
   ],
   "source": [
    "y"
   ]
  },
  {
   "cell_type": "code",
   "execution_count": 37,
   "id": "0d4db513",
   "metadata": {},
   "outputs": [
    {
     "data": {
      "text/plain": [
       "array([[ 1,  2],\n",
       "       [ 5,  6],\n",
       "       [ 9, 10],\n",
       "       [13, 14],\n",
       "       [17, 18],\n",
       "       [21, 22]])"
      ]
     },
     "execution_count": 37,
     "metadata": {},
     "output_type": "execute_result"
    }
   ],
   "source": [
    "arr_sliced2 = y[::,1:3]\n",
    "arr_sliced2"
   ]
  },
  {
   "cell_type": "code",
   "execution_count": 38,
   "id": "1e87190d",
   "metadata": {},
   "outputs": [
    {
     "data": {
      "text/plain": [
       "array([[ 0,  2],\n",
       "       [16, 18]])"
      ]
     },
     "execution_count": 38,
     "metadata": {},
     "output_type": "execute_result"
    }
   ],
   "source": [
    "arr_s1 = y[0:5:4,0:3:2]\n",
    "arr_s1"
   ]
  },
  {
   "cell_type": "code",
   "execution_count": 39,
   "id": "cc06a740",
   "metadata": {},
   "outputs": [
    {
     "data": {
      "text/plain": [
       "array([[ 0,  2,  3],\n",
       "       [16, 18, 19],\n",
       "       [20, 22, 23]])"
      ]
     },
     "execution_count": 39,
     "metadata": {},
     "output_type": "execute_result"
    }
   ],
   "source": [
    "arr_s1 = y[[0,4,5]][:,[0,2,3]]  ### It is combination of slicing and indexing #### MOST IMP MUST PRACTICE THIS KIND OF QUE \n",
    "arr_s1"
   ]
  },
  {
   "cell_type": "markdown",
   "id": "8258618d",
   "metadata": {},
   "source": [
    "# Imp Concept:"
   ]
  },
  {
   "cell_type": "code",
   "execution_count": 47,
   "id": "07b44a4a",
   "metadata": {},
   "outputs": [
    {
     "data": {
      "text/plain": [
       "array([[ 0,  1,  2,  3],\n",
       "       [ 4,  5,  6,  7],\n",
       "       [ 8,  9, 10, 11],\n",
       "       [12, 13, 14, 15],\n",
       "       [16, 17, 18, 19],\n",
       "       [20, 21, 22, 23]])"
      ]
     },
     "execution_count": 47,
     "metadata": {},
     "output_type": "execute_result"
    }
   ],
   "source": [
    "y"
   ]
  },
  {
   "cell_type": "code",
   "execution_count": 40,
   "id": "d704c829",
   "metadata": {},
   "outputs": [
    {
     "data": {
      "text/plain": [
       "array([[ 0,  3],\n",
       "       [ 8, 11],\n",
       "       [16, 19]])"
      ]
     },
     "execution_count": 40,
     "metadata": {},
     "output_type": "execute_result"
    }
   ],
   "source": [
    "a= y[0::2,0::3]\n",
    "a"
   ]
  },
  {
   "cell_type": "code",
   "execution_count": 41,
   "id": "91381426",
   "metadata": {},
   "outputs": [
    {
     "data": {
      "text/plain": [
       "array([[ 5,  6],\n",
       "       [13, 14],\n",
       "       [21, 22]])"
      ]
     },
     "execution_count": 41,
     "metadata": {},
     "output_type": "execute_result"
    }
   ],
   "source": [
    "b = y[1::2,1:3]\n",
    "b"
   ]
  },
  {
   "cell_type": "code",
   "execution_count": 42,
   "id": "190d7d90",
   "metadata": {},
   "outputs": [
    {
     "data": {
      "text/plain": [
       "array([[ 0,  3,  5,  6],\n",
       "       [ 8, 11, 13, 14],\n",
       "       [16, 19, 21, 22]])"
      ]
     },
     "execution_count": 42,
     "metadata": {},
     "output_type": "execute_result"
    }
   ],
   "source": [
    "c = np.hstack((a,b))\n",
    "c"
   ]
  },
  {
   "cell_type": "code",
   "execution_count": 43,
   "id": "041640e5",
   "metadata": {},
   "outputs": [
    {
     "data": {
      "text/plain": [
       "array([[ 0,  3],\n",
       "       [ 5,  6],\n",
       "       [ 8, 11],\n",
       "       [13, 14],\n",
       "       [16, 19],\n",
       "       [21, 22]])"
      ]
     },
     "execution_count": 43,
     "metadata": {},
     "output_type": "execute_result"
    }
   ],
   "source": [
    "d=c.reshape(6,2)\n",
    "d"
   ]
  },
  {
   "cell_type": "code",
   "execution_count": 44,
   "id": "edfdaeb1",
   "metadata": {},
   "outputs": [
    {
     "data": {
      "text/plain": [
       "array([[ 0,  1,  2,  3],\n",
       "       [ 4,  5,  6,  7],\n",
       "       [ 8,  9, 10, 11],\n",
       "       [12, 13, 14, 15],\n",
       "       [16, 17, 18, 19],\n",
       "       [20, 21, 22, 23]])"
      ]
     },
     "execution_count": 44,
     "metadata": {},
     "output_type": "execute_result"
    }
   ],
   "source": [
    "y                                    "
   ]
  },
  {
   "cell_type": "code",
   "execution_count": 45,
   "id": "137f2d17",
   "metadata": {},
   "outputs": [
    {
     "data": {
      "text/plain": [
       "6"
      ]
     },
     "execution_count": 45,
     "metadata": {},
     "output_type": "execute_result"
    }
   ],
   "source": [
    "len(y)             ### It returns rows number"
   ]
  },
  {
   "cell_type": "markdown",
   "id": "8ccaa79a",
   "metadata": {},
   "source": [
    "# The most imp steps and concept to clear complex indexing Must try"
   ]
  },
  {
   "cell_type": "code",
   "execution_count": 48,
   "id": "ce8538d2",
   "metadata": {},
   "outputs": [
    {
     "data": {
      "text/plain": [
       "array([[ 0,  1,  2,  3],\n",
       "       [16, 17, 18, 19],\n",
       "       [20, 21, 22, 23]])"
      ]
     },
     "execution_count": 48,
     "metadata": {},
     "output_type": "execute_result"
    }
   ],
   "source": [
    "## We can also break the same indexing arr_s1 = y[[0,4,5]][:,[0,2,3]] step by step into this to understand it.\n",
    "## Step 1:\n",
    "e = y[[0,4,5]]\n",
    "e                                   "
   ]
  },
  {
   "cell_type": "code",
   "execution_count": 49,
   "id": "3e0e66ae",
   "metadata": {},
   "outputs": [
    {
     "data": {
      "text/plain": [
       "array([[ 0,  2,  3],\n",
       "       [16, 18, 19],\n",
       "       [20, 22, 23]])"
      ]
     },
     "execution_count": 49,
     "metadata": {},
     "output_type": "execute_result"
    }
   ],
   "source": [
    "## Step 2:\n",
    "## Now our new array is e (or we can say var so we will use slicing and indexing on this array.\n",
    "## In below operation e[Row indexing/slicing,Column indexing/slicing] so colon giving all the rows of e array and after comma...\n",
    "## [0,2,3] giving col 0 2 and 3 using indexing\n",
    "\n",
    "f = e[:,[0,2,3]]    ### here using syntax: var[row indexing,col indexing]    here var is e on which we have to perform indexing\n",
    "f"
   ]
  },
  {
   "cell_type": "markdown",
   "id": "9efd6ceb",
   "metadata": {},
   "source": [
    "# Iteration:"
   ]
  },
  {
   "cell_type": "code",
   "execution_count": null,
   "id": "13aafb0a",
   "metadata": {},
   "outputs": [],
   "source": [
    "### It will iterate each row one by one:\n",
    "\n",
    "for i in y:\n",
    "    print(i)"
   ]
  },
  {
   "cell_type": "code",
   "execution_count": null,
   "id": "11a40b89",
   "metadata": {},
   "outputs": [],
   "source": []
  },
  {
   "cell_type": "markdown",
   "id": "4938c66a",
   "metadata": {},
   "source": [
    "# Fancy Indexing Que:"
   ]
  },
  {
   "cell_type": "code",
   "execution_count": 50,
   "id": "989fe8f5",
   "metadata": {},
   "outputs": [
    {
     "data": {
      "text/plain": [
       "array([[ 0,  1,  2,  3],\n",
       "       [ 4,  5,  6,  7],\n",
       "       [ 8,  9, 10, 11],\n",
       "       [12, 13, 14, 15],\n",
       "       [16, 17, 18, 19],\n",
       "       [20, 21, 22, 23]])"
      ]
     },
     "execution_count": 50,
     "metadata": {},
     "output_type": "execute_result"
    }
   ],
   "source": [
    "arr_ind = np.arange(24).reshape(6,4)\n",
    "arr_ind"
   ]
  },
  {
   "cell_type": "code",
   "execution_count": 51,
   "id": "b678f343",
   "metadata": {},
   "outputs": [
    {
     "data": {
      "text/plain": [
       "array([[ 0,  2,  3],\n",
       "       [ 4,  6,  7],\n",
       "       [ 8, 10, 11],\n",
       "       [12, 14, 15],\n",
       "       [16, 18, 19],\n",
       "       [20, 22, 23]])"
      ]
     },
     "execution_count": 51,
     "metadata": {},
     "output_type": "execute_result"
    }
   ],
   "source": [
    "arr_ind[:,[0,2,3]]"
   ]
  },
  {
   "cell_type": "markdown",
   "id": "e1a0d7a6",
   "metadata": {},
   "source": [
    "# Find out elements of arr_ind that are greater than 6 and divisible by 2"
   ]
  },
  {
   "cell_type": "code",
   "execution_count": 52,
   "id": "ae45dcc3",
   "metadata": {},
   "outputs": [
    {
     "data": {
      "text/plain": [
       "array([[False, False, False, False],\n",
       "       [False, False, False, False],\n",
       "       [ True, False,  True, False],\n",
       "       [ True, False,  True, False],\n",
       "       [ True, False,  True, False],\n",
       "       [ True, False,  True, False]])"
      ]
     },
     "execution_count": 52,
     "metadata": {},
     "output_type": "execute_result"
    }
   ],
   "source": [
    "(arr_ind > 6) & (arr_ind % 2 == 0)"
   ]
  },
  {
   "cell_type": "code",
   "execution_count": 53,
   "id": "2baf63c5",
   "metadata": {},
   "outputs": [
    {
     "data": {
      "text/plain": [
       "array([ 8, 10, 12, 14, 16, 18, 20, 22])"
      ]
     },
     "execution_count": 53,
     "metadata": {},
     "output_type": "execute_result"
    }
   ],
   "source": [
    "g = arr_ind[(arr_ind > 6) & (arr_ind % 2 == 0)]\n",
    "g"
   ]
  },
  {
   "cell_type": "code",
   "execution_count": 54,
   "id": "b3291da6",
   "metadata": {},
   "outputs": [
    {
     "data": {
      "text/plain": [
       "array([[ 8, 10, 12, 14],\n",
       "       [16, 18, 20, 22]])"
      ]
     },
     "execution_count": 54,
     "metadata": {},
     "output_type": "execute_result"
    }
   ],
   "source": [
    "### If we want we can reshape it\n",
    "h =g.reshape(2,4)\n",
    "h"
   ]
  },
  {
   "cell_type": "code",
   "execution_count": 55,
   "id": "492b24d7",
   "metadata": {},
   "outputs": [
    {
     "data": {
      "text/plain": [
       "array([[ 8, 10, 12, 14],\n",
       "       [16, 18, 20, 22]])"
      ]
     },
     "execution_count": 55,
     "metadata": {},
     "output_type": "execute_result"
    }
   ],
   "source": [
    "## OR\n",
    "arr_ind[(arr_ind > 6) & (arr_ind % 2 == 0)].reshape(2,4)"
   ]
  },
  {
   "cell_type": "code",
   "execution_count": 56,
   "id": "5aac5072",
   "metadata": {},
   "outputs": [
    {
     "data": {
      "text/plain": [
       "array([[ True,  True, False,  True],\n",
       "       [ True, False,  True,  True]])"
      ]
     },
     "execution_count": 56,
     "metadata": {},
     "output_type": "execute_result"
    }
   ],
   "source": [
    "h % 3 != 0    ## Elements of h not divisible by 3"
   ]
  },
  {
   "cell_type": "code",
   "execution_count": 57,
   "id": "c6ba6620",
   "metadata": {},
   "outputs": [
    {
     "data": {
      "text/plain": [
       "array([ 8, 10, 14, 16, 20, 22])"
      ]
     },
     "execution_count": 57,
     "metadata": {},
     "output_type": "execute_result"
    }
   ],
   "source": [
    "h[h % 3 != 0 ]"
   ]
  },
  {
   "cell_type": "code",
   "execution_count": 58,
   "id": "94c7ca0e",
   "metadata": {},
   "outputs": [
    {
     "data": {
      "text/plain": [
       "array([[ True,  True, False,  True],\n",
       "       [ True, False,  True,  True]])"
      ]
     },
     "execution_count": 58,
     "metadata": {},
     "output_type": "execute_result"
    }
   ],
   "source": [
    "~(h % 3 ==0)   ## Elements not divisible by 3"
   ]
  },
  {
   "cell_type": "code",
   "execution_count": 59,
   "id": "0dfcf5ae",
   "metadata": {},
   "outputs": [
    {
     "data": {
      "text/plain": [
       "array([ 8, 10, 14, 16, 20, 22])"
      ]
     },
     "execution_count": 59,
     "metadata": {},
     "output_type": "execute_result"
    }
   ],
   "source": [
    "h[~(h % 3 ==0)]"
   ]
  },
  {
   "cell_type": "code",
   "execution_count": 60,
   "id": "a54362ca",
   "metadata": {},
   "outputs": [
    {
     "data": {
      "text/plain": [
       "array([12, 18])"
      ]
     },
     "execution_count": 60,
     "metadata": {},
     "output_type": "execute_result"
    }
   ],
   "source": [
    "h[h % 3 ==0]     ## Elements of h divisible by 3"
   ]
  },
  {
   "cell_type": "code",
   "execution_count": 61,
   "id": "b18756f5",
   "metadata": {},
   "outputs": [
    {
     "data": {
      "text/plain": [
       "array([[ 10,  20,  30,  40],\n",
       "       [ 50,  60,  70,  80],\n",
       "       [ 90, 100, 110, 120],\n",
       "       [130, 140, 150, 160]])"
      ]
     },
     "execution_count": 61,
     "metadata": {},
     "output_type": "execute_result"
    }
   ],
   "source": [
    "arr1 = np.arange(10,161,10).reshape(4,4)\n",
    "arr1"
   ]
  },
  {
   "cell_type": "code",
   "execution_count": null,
   "id": "1fe9a2af",
   "metadata": {},
   "outputs": [],
   "source": [
    "arr1[0:2,::]          # extract first two rows"
   ]
  },
  {
   "cell_type": "code",
   "execution_count": null,
   "id": "229a0fe4",
   "metadata": {},
   "outputs": [],
   "source": [
    "arr1[:,-1]   #extract last column"
   ]
  },
  {
   "cell_type": "code",
   "execution_count": null,
   "id": "dbab73b3",
   "metadata": {},
   "outputs": [],
   "source": [
    "arr1[:,3:]   #extract last column              ## ?????? Diff b/w above and current o/p as both are giving last col but first one is 1D and second is 2D"
   ]
  },
  {
   "cell_type": "code",
   "execution_count": null,
   "id": "cb14fcc2",
   "metadata": {},
   "outputs": [],
   "source": [
    "arr1[1:3,1:3]"
   ]
  },
  {
   "cell_type": "code",
   "execution_count": null,
   "id": "cbc31666",
   "metadata": {},
   "outputs": [],
   "source": [
    "# Reverse the order of rows (flip vertically)            ### Imp Concept\n",
    "arr1[3::-1,::]                                           ### OR arr1[::-1,::]\n"
   ]
  },
  {
   "cell_type": "code",
   "execution_count": null,
   "id": "b3153742",
   "metadata": {},
   "outputs": [],
   "source": [
    "# Reverse the order of columns (flip horizontally)\n",
    "arr1[::,3::-1]                                            ### OR arr1[::,::-1]"
   ]
  },
  {
   "cell_type": "code",
   "execution_count": null,
   "id": "d753d4ae",
   "metadata": {},
   "outputs": [],
   "source": [
    "## Get every other(alternate) element from the second row\n",
    "arr1[1,[0,2]]          ## var[row,columns]"
   ]
  },
  {
   "cell_type": "code",
   "execution_count": null,
   "id": "c4e22403",
   "metadata": {},
   "outputs": [],
   "source": [
    "#step1: \n",
    "a1 = arr1[1]\n",
    "a1"
   ]
  },
  {
   "cell_type": "code",
   "execution_count": null,
   "id": "0eeb8782",
   "metadata": {},
   "outputs": [],
   "source": [
    "#step2:\n",
    "a1[[0,2]]"
   ]
  },
  {
   "cell_type": "code",
   "execution_count": null,
   "id": "c20c74fb",
   "metadata": {},
   "outputs": [],
   "source": [
    "arr1[1:2,0::2]"
   ]
  },
  {
   "cell_type": "code",
   "execution_count": 82,
   "id": "e94dace1",
   "metadata": {
    "scrolled": true
   },
   "outputs": [
    {
     "data": {
      "text/plain": [
       "array([[ 10,  20,  30,  40],\n",
       "       [ 50,   0,   0,  80],\n",
       "       [ 90,   0,   0, 120],\n",
       "       [130, 140, 150, 160]])"
      ]
     },
     "execution_count": 82,
     "metadata": {},
     "output_type": "execute_result"
    }
   ],
   "source": [
    "arr1"
   ]
  },
  {
   "cell_type": "code",
   "execution_count": 63,
   "id": "3f6454c7",
   "metadata": {},
   "outputs": [
    {
     "name": "stdout",
     "output_type": "stream",
     "text": [
      "[10, 60, 110, 160]\n"
     ]
    }
   ],
   "source": [
    "# Extract diagonal elements:                                 ##### Most IMP Concept\n",
    "diagonal_elements = []\n",
    "for i in range(len(arr1)):\n",
    "    diagonal_elements.append(arr1[i][i])\n",
    "print(diagonal_elements)"
   ]
  },
  {
   "cell_type": "code",
   "execution_count": 62,
   "id": "576fb780",
   "metadata": {},
   "outputs": [
    {
     "data": {
      "text/plain": [
       "array([ 10,  60, 110, 160])"
      ]
     },
     "execution_count": 62,
     "metadata": {},
     "output_type": "execute_result"
    }
   ],
   "source": [
    "np.diagonal(arr1)"
   ]
  },
  {
   "cell_type": "code",
   "execution_count": 64,
   "id": "b6a30ec9",
   "metadata": {},
   "outputs": [
    {
     "data": {
      "text/plain": [
       "array([ 10,  60, 110, 160])"
      ]
     },
     "execution_count": 64,
     "metadata": {},
     "output_type": "execute_result"
    }
   ],
   "source": [
    "arr1[range(4),range(4)]"
   ]
  },
  {
   "cell_type": "code",
   "execution_count": null,
   "id": "4e09a57a",
   "metadata": {},
   "outputs": [],
   "source": [
    "y"
   ]
  },
  {
   "cell_type": "code",
   "execution_count": null,
   "id": "e19cea24",
   "metadata": {},
   "outputs": [],
   "source": [
    "# Row wise max value \n",
    "y.max(axis = 1)    # Or np.max(y,axis =1)   "
   ]
  },
  {
   "cell_type": "code",
   "execution_count": null,
   "id": "9cef726b",
   "metadata": {},
   "outputs": [],
   "source": [
    "# Row mean value\n",
    "row_mean = y.mean(axis = 1)\n",
    "row_mean"
   ]
  },
  {
   "cell_type": "code",
   "execution_count": null,
   "id": "d2a279d6",
   "metadata": {},
   "outputs": [],
   "source": [
    "# Replace max value in each row with row mean\n",
    "max_indices = np.argmax(y, axis = 1)\n",
    "max_indices"
   ]
  },
  {
   "cell_type": "code",
   "execution_count": null,
   "id": "d53661d8",
   "metadata": {},
   "outputs": [],
   "source": [
    "# Row index\n",
    "rows = np.arange(y.shape[0])\n",
    "rows"
   ]
  },
  {
   "cell_type": "code",
   "execution_count": null,
   "id": "1898b064",
   "metadata": {},
   "outputs": [],
   "source": [
    "y[rows, max_indices] = row_mean\n",
    "print(\"Array after replacing max value of rows with mean of row:\\n\",y)"
   ]
  },
  {
   "cell_type": "code",
   "execution_count": 65,
   "id": "9f11bbd4",
   "metadata": {},
   "outputs": [
    {
     "data": {
      "text/plain": [
       "array([[ 10,  20,  30,  40],\n",
       "       [ 50,  60,  70,  80],\n",
       "       [ 90, 100, 110, 120],\n",
       "       [130, 140, 150, 160]])"
      ]
     },
     "execution_count": 65,
     "metadata": {},
     "output_type": "execute_result"
    }
   ],
   "source": [
    "arr1"
   ]
  },
  {
   "cell_type": "code",
   "execution_count": 66,
   "id": "24f29246",
   "metadata": {},
   "outputs": [
    {
     "data": {
      "text/plain": [
       "array([[110, 120],\n",
       "       [150, 160]])"
      ]
     },
     "execution_count": 66,
     "metadata": {},
     "output_type": "execute_result"
    }
   ],
   "source": [
    "# Get bottom right 2x2 sub matrix\n",
    "arr1[2::,2::]"
   ]
  },
  {
   "cell_type": "code",
   "execution_count": 67,
   "id": "5f243fbb",
   "metadata": {},
   "outputs": [
    {
     "data": {
      "text/plain": [
       "array([[ 60,  70],\n",
       "       [100, 110]])"
      ]
     },
     "execution_count": 67,
     "metadata": {},
     "output_type": "execute_result"
    }
   ],
   "source": [
    "#IMPORTANT CONCEPT\n",
    "#Replace the middle 2x2 with zeros\n",
    "arr1[1:3, 1:3]"
   ]
  },
  {
   "cell_type": "code",
   "execution_count": 68,
   "id": "e7388f12",
   "metadata": {},
   "outputs": [
    {
     "name": "stdout",
     "output_type": "stream",
     "text": [
      "Array after replacing middle 2x2 with zeros:\n",
      " [[ 10  20  30  40]\n",
      " [ 50   0   0  80]\n",
      " [ 90   0   0 120]\n",
      " [130 140 150 160]]\n",
      "Now array is updated permanently after replacing with zeros!!!\n"
     ]
    }
   ],
   "source": [
    "arr1[1:3,1:3] = 0\n",
    "print(\"Array after replacing middle 2x2 with zeros:\\n\",arr1)\n",
    "print(\"Now array is updated permanently after replacing with zeros!!!\")"
   ]
  },
  {
   "cell_type": "code",
   "execution_count": 2,
   "id": "14845928",
   "metadata": {},
   "outputs": [
    {
     "data": {
      "text/plain": [
       "array([[  1,   2,   3,   4,   5,   6,   7,   8,   9,  10],\n",
       "       [ 11,  12,  13,  14,  15,  16,  17,  18,  19,  20],\n",
       "       [ 21,  22,  23,  24,  25,  26,  27,  28,  29,  30],\n",
       "       [ 31,  32,  33,  34,  35,  36,  37,  38,  39,  40],\n",
       "       [ 41,  42,  43,  44,  45,  46,  47,  48,  49,  50],\n",
       "       [ 51,  52,  53,  54,  55,  56,  57,  58,  59,  60],\n",
       "       [ 61,  62,  63,  64,  65,  66,  67,  68,  69,  70],\n",
       "       [ 71,  72,  73,  74,  75,  76,  77,  78,  79,  80],\n",
       "       [ 81,  82,  83,  84,  85,  86,  87,  88,  89,  90],\n",
       "       [ 91,  92,  93,  94,  95,  96,  97,  98,  99, 100]])"
      ]
     },
     "execution_count": 2,
     "metadata": {},
     "output_type": "execute_result"
    }
   ],
   "source": [
    "z = np.arange(1,101).reshape(10,10)\n",
    "z"
   ]
  },
  {
   "cell_type": "code",
   "execution_count": 70,
   "id": "7b560afb",
   "metadata": {},
   "outputs": [
    {
     "data": {
      "text/plain": [
       "array([[ 2,  4,  6,  8, 10],\n",
       "       [22, 24, 26, 28, 30],\n",
       "       [42, 44, 46, 48, 50],\n",
       "       [62, 64, 66, 68, 70],\n",
       "       [82, 84, 86, 88, 90]])"
      ]
     },
     "execution_count": 70,
     "metadata": {},
     "output_type": "execute_result"
    }
   ],
   "source": [
    "#Extract all even rows and odd columns\n",
    "z[::2,1::2]"
   ]
  },
  {
   "cell_type": "code",
   "execution_count": 71,
   "id": "70aa92e4",
   "metadata": {},
   "outputs": [
    {
     "data": {
      "text/plain": [
       "array([[ 78,  79,  80],\n",
       "       [ 88,  89,  90],\n",
       "       [ 98,  99, 100]])"
      ]
     },
     "execution_count": 71,
     "metadata": {},
     "output_type": "execute_result"
    }
   ],
   "source": [
    "new_z = z[7::,7::]\n",
    "new_z"
   ]
  },
  {
   "cell_type": "code",
   "execution_count": 72,
   "id": "c155ad74",
   "metadata": {},
   "outputs": [
    {
     "data": {
      "text/plain": [
       "array([[100,  99,  98],\n",
       "       [ 90,  89,  88],\n",
       "       [ 80,  79,  78]])"
      ]
     },
     "execution_count": 72,
     "metadata": {},
     "output_type": "execute_result"
    }
   ],
   "source": [
    "np.flip(new_z)                             ## IMP CONCEPT"
   ]
  },
  {
   "cell_type": "code",
   "execution_count": 6,
   "id": "7e12b9cb",
   "metadata": {},
   "outputs": [
    {
     "data": {
      "text/plain": [
       "array([[100,  99,  98],\n",
       "       [ 90,  89,  88],\n",
       "       [ 80,  79,  78]])"
      ]
     },
     "execution_count": 6,
     "metadata": {},
     "output_type": "execute_result"
    }
   ],
   "source": [
    "z[-1:-4:-1,-1:-4:-1]                        ## IMP CONCEPT"
   ]
  },
  {
   "cell_type": "code",
   "execution_count": 73,
   "id": "4b1a2fb6",
   "metadata": {},
   "outputs": [
    {
     "data": {
      "text/plain": [
       "array([[[ 0,  1,  2,  3,  4],\n",
       "        [ 5,  6,  7,  8,  9],\n",
       "        [10, 11, 12, 13, 14],\n",
       "        [15, 16, 17, 18, 19]],\n",
       "\n",
       "       [[20, 21, 22, 23, 24],\n",
       "        [25, 26, 27, 28, 29],\n",
       "        [30, 31, 32, 33, 34],\n",
       "        [35, 36, 37, 38, 39]],\n",
       "\n",
       "       [[40, 41, 42, 43, 44],\n",
       "        [45, 46, 47, 48, 49],\n",
       "        [50, 51, 52, 53, 54],\n",
       "        [55, 56, 57, 58, 59]]])"
      ]
     },
     "execution_count": 73,
     "metadata": {},
     "output_type": "execute_result"
    }
   ],
   "source": [
    "k = np.arange(3*4*5).reshape(3,4,5)\n",
    "k"
   ]
  },
  {
   "cell_type": "code",
   "execution_count": null,
   "id": "7151cee0",
   "metadata": {},
   "outputs": [],
   "source": [
    "# From a 3D array of shape (3,4,5) extract the last two elements of the last axis for every 2nd slice in the first axis\n",
    "k[::2,:,-2:]"
   ]
  },
  {
   "cell_type": "code",
   "execution_count": 74,
   "id": "652304be",
   "metadata": {},
   "outputs": [
    {
     "data": {
      "text/plain": [
       "array([[  1,   2,   3,   4,   5,   6,   7,   8,   9,  10],\n",
       "       [ 11,  12,  13,  14,  15,  16,  17,  18,  19,  20],\n",
       "       [ 21,  22,  23,  24,  25,  26,  27,  28,  29,  30],\n",
       "       [ 31,  32,  33,  34,  35,  36,  37,  38,  39,  40],\n",
       "       [ 41,  42,  43,  44,  45,  46,  47,  48,  49,  50],\n",
       "       [ 51,  52,  53,  54,  55,  56,  57,  58,  59,  60],\n",
       "       [ 61,  62,  63,  64,  65,  66,  67,  68,  69,  70],\n",
       "       [ 71,  72,  73,  74,  75,  76,  77,  78,  79,  80],\n",
       "       [ 81,  82,  83,  84,  85,  86,  87,  88,  89,  90],\n",
       "       [ 91,  92,  93,  94,  95,  96,  97,  98,  99, 100]])"
      ]
     },
     "execution_count": 74,
     "metadata": {},
     "output_type": "execute_result"
    }
   ],
   "source": [
    "z"
   ]
  },
  {
   "cell_type": "code",
   "execution_count": 75,
   "id": "d9469ce4",
   "metadata": {},
   "outputs": [
    {
     "data": {
      "text/plain": [
       "array([15, 30, 45, 60, 75, 90])"
      ]
     },
     "execution_count": 75,
     "metadata": {},
     "output_type": "execute_result"
    }
   ],
   "source": [
    "z[(z%3 ==0)&(z%5==0)]"
   ]
  },
  {
   "cell_type": "code",
   "execution_count": 76,
   "id": "a2a8bfed",
   "metadata": {},
   "outputs": [
    {
     "data": {
      "text/plain": [
       "array([15, 30, 45, 60, 75, 90])"
      ]
     },
     "execution_count": 76,
     "metadata": {},
     "output_type": "execute_result"
    }
   ],
   "source": [
    "# OR \n",
    "mask = (z%3 ==0)&(z%5==0)\n",
    "z[mask]"
   ]
  },
  {
   "cell_type": "markdown",
   "id": "7ba02959",
   "metadata": {},
   "source": [
    "# Checkboard"
   ]
  },
  {
   "cell_type": "code",
   "execution_count": 77,
   "id": "14d3efc6",
   "metadata": {},
   "outputs": [
    {
     "data": {
      "text/plain": [
       "array([[ 1,  3,  5,  7,  9],\n",
       "       [21, 23, 25, 27, 29],\n",
       "       [41, 43, 45, 47, 49],\n",
       "       [61, 63, 65, 67, 69],\n",
       "       [81, 83, 85, 87, 89]])"
      ]
     },
     "execution_count": 77,
     "metadata": {},
     "output_type": "execute_result"
    }
   ],
   "source": [
    "## Extract a checkerboard pattern(like a chessboard 1s and 0s) from z\n",
    "z[::2,::2]"
   ]
  },
  {
   "cell_type": "code",
   "execution_count": 78,
   "id": "54335436",
   "metadata": {},
   "outputs": [
    {
     "data": {
      "text/plain": [
       "array([[  1,   2,   3,   4,   5,   6,   7,   8,   9,  10],\n",
       "       [ 11,  12,  13,  14,  15,  16,  17,  18,  19,  20],\n",
       "       [ 21,  22,  23,  24,  25,  26,  27,  28,  29,  30],\n",
       "       [ 31,  32,  33,  34,  35,  36,  37,  38,  39,  40],\n",
       "       [ 41,  42,  43,  44,  45,  46,  47,  48,  49,  50],\n",
       "       [ 51,  52,  53,  54,  55,  56,  57,  58,  59,  60],\n",
       "       [ 61,  62,  63,  64,  65,  66,  67,  68,  69,  70],\n",
       "       [ 71,  72,  73,  74,  75,  76,  77,  78,  79,  80],\n",
       "       [ 81,  82,  83,  84,  85,  86,  87,  88,  89,  90],\n",
       "       [ 91,  92,  93,  94,  95,  96,  97,  98,  99, 100]])"
      ]
     },
     "execution_count": 78,
     "metadata": {},
     "output_type": "execute_result"
    }
   ],
   "source": [
    "z"
   ]
  },
  {
   "cell_type": "code",
   "execution_count": 79,
   "id": "a5d73c03",
   "metadata": {},
   "outputs": [
    {
     "data": {
      "text/plain": [
       "array([False, False, False, False, False,  True,  True,  True,  True,\n",
       "        True])"
      ]
     },
     "execution_count": 79,
     "metadata": {},
     "output_type": "execute_result"
    }
   ],
   "source": [
    "## EXtract all rows where the third column is greater than 50\n",
    "z[:,2]>50"
   ]
  },
  {
   "cell_type": "code",
   "execution_count": 80,
   "id": "ac0d4ae8",
   "metadata": {},
   "outputs": [
    {
     "data": {
      "text/plain": [
       "array([[ 51,  52,  53,  54,  55,  56,  57,  58,  59,  60],\n",
       "       [ 61,  62,  63,  64,  65,  66,  67,  68,  69,  70],\n",
       "       [ 71,  72,  73,  74,  75,  76,  77,  78,  79,  80],\n",
       "       [ 81,  82,  83,  84,  85,  86,  87,  88,  89,  90],\n",
       "       [ 91,  92,  93,  94,  95,  96,  97,  98,  99, 100]])"
      ]
     },
     "execution_count": 80,
     "metadata": {},
     "output_type": "execute_result"
    }
   ],
   "source": [
    "z[z[:,2]>50]"
   ]
  },
  {
   "cell_type": "code",
   "execution_count": null,
   "id": "a91e2fd5",
   "metadata": {},
   "outputs": [],
   "source": [
    "### Flip both dimesions (equivalent to rotating 180 degree)\n",
    "z[::-1,::-1]"
   ]
  },
  {
   "cell_type": "code",
   "execution_count": 7,
   "id": "4d766d6c",
   "metadata": {},
   "outputs": [
    {
     "ename": "NameError",
     "evalue": "name 'w' is not defined",
     "output_type": "error",
     "traceback": [
      "\u001b[1;31m---------------------------------------------------------------------------\u001b[0m",
      "\u001b[1;31mNameError\u001b[0m                                 Traceback (most recent call last)",
      "\u001b[1;32m~\\AppData\\Local\\Temp\\ipykernel_20364\\345224756.py\u001b[0m in \u001b[0;36m<module>\u001b[1;34m\u001b[0m\n\u001b[0;32m      1\u001b[0m \u001b[1;31m### Extract diagonal from top right to bottom left\u001b[0m\u001b[1;33m\u001b[0m\u001b[1;33m\u001b[0m\u001b[0m\n\u001b[1;32m----> 2\u001b[1;33m \u001b[0mw\u001b[0m\u001b[1;33m[\u001b[0m\u001b[0mnp\u001b[0m\u001b[1;33m.\u001b[0m\u001b[0marange\u001b[0m\u001b[1;33m(\u001b[0m\u001b[1;36m10\u001b[0m\u001b[1;33m)\u001b[0m\u001b[1;33m,\u001b[0m \u001b[0mnp\u001b[0m\u001b[1;33m.\u001b[0m\u001b[0marange\u001b[0m\u001b[1;33m(\u001b[0m\u001b[1;36m9\u001b[0m\u001b[1;33m,\u001b[0m\u001b[1;33m-\u001b[0m\u001b[1;36m1\u001b[0m\u001b[1;33m,\u001b[0m\u001b[1;33m-\u001b[0m\u001b[1;36m1\u001b[0m\u001b[1;33m)\u001b[0m\u001b[1;33m]\u001b[0m\u001b[1;33m\u001b[0m\u001b[1;33m\u001b[0m\u001b[0m\n\u001b[0m",
      "\u001b[1;31mNameError\u001b[0m: name 'w' is not defined"
     ]
    }
   ],
   "source": [
    "### Extract diagonal from top right to bottom left\n",
    "w[np.arange(10), np.arange(9,-1,-1)]"
   ]
  },
  {
   "cell_type": "code",
   "execution_count": null,
   "id": "63874f35",
   "metadata": {},
   "outputs": [],
   "source": [
    "##From a 4d array of shape (2,3,4,5), get the last 2 elements of every 3rd row from every matrix\n",
    "c = np.random.randint(0,100, size=(2,3,4,5))\n",
    "c"
   ]
  },
  {
   "cell_type": "code",
   "execution_count": null,
   "id": "bc71e235",
   "metadata": {},
   "outputs": [],
   "source": [
    "c[:,:,::3,-2:]"
   ]
  },
  {
   "cell_type": "code",
   "execution_count": null,
   "id": "176bc7dd",
   "metadata": {},
   "outputs": [],
   "source": [
    "##flatten an array\n",
    "a = np.array([[1,2],[3,4]])\n",
    "a"
   ]
  },
  {
   "cell_type": "code",
   "execution_count": null,
   "id": "b2a90e19",
   "metadata": {},
   "outputs": [],
   "source": [
    "a.flatten()   ## np.flatten(a)   doesn't work                              \n"
   ]
  },
  {
   "cell_type": "markdown",
   "id": "fb46b56c",
   "metadata": {},
   "source": [
    "# Create a checkerboard pattern"
   ]
  },
  {
   "cell_type": "code",
   "execution_count": 84,
   "id": "06b1c81c",
   "metadata": {},
   "outputs": [
    {
     "name": "stdout",
     "output_type": "stream",
     "text": [
      "CheckerBoard Pattern:\n",
      "[[0 1 0 1 0 1 0 1]\n",
      " [1 0 1 0 1 0 1 0]\n",
      " [0 1 0 1 0 1 0 1]\n",
      " [1 0 1 0 1 0 1 0]\n",
      " [0 1 0 1 0 1 0 1]\n",
      " [1 0 1 0 1 0 1 0]\n",
      " [0 1 0 1 0 1 0 1]\n",
      " [1 0 1 0 1 0 1 0]]\n"
     ]
    }
   ],
   "source": [
    "print(\"CheckerBoard Pattern:\")\n",
    "x = np.zeros((8,8),dtype = int)\n",
    "x[1::2,::2]=1\n",
    "x[::2,1::2]=1\n",
    "print(x)"
   ]
  },
  {
   "cell_type": "markdown",
   "id": "73fd027d",
   "metadata": {},
   "source": [
    "# Create a 2D array of shape (a,b) with zeros using function and take shape(a,b) as parameter to function "
   ]
  },
  {
   "cell_type": "code",
   "execution_count": 85,
   "id": "9dcb28ba",
   "metadata": {},
   "outputs": [
    {
     "name": "stdout",
     "output_type": "stream",
     "text": [
      "Random array is:\n",
      " [[0 0]\n",
      " [0 0]\n",
      " [0 0]]\n"
     ]
    }
   ],
   "source": [
    "def arr3(x,y):\n",
    "    return np.zeros((x,y), dtype =int)\n",
    "    \n",
    "a = 3\n",
    "b = 2\n",
    "arr3_f = arr3(a,b)\n",
    "print(\"Random array is:\\n\", arr3_f)"
   ]
  },
  {
   "cell_type": "code",
   "execution_count": null,
   "id": "e88e4d53",
   "metadata": {},
   "outputs": [],
   "source": [
    "###OR"
   ]
  },
  {
   "cell_type": "code",
   "execution_count": 86,
   "id": "b590237a",
   "metadata": {},
   "outputs": [
    {
     "name": "stdout",
     "output_type": "stream",
     "text": [
      "Random array is:\n",
      " [[0 0]\n",
      " [0 0]\n",
      " [0 0]]\n"
     ]
    }
   ],
   "source": [
    "def arr3(a,b):\n",
    "    return np.zeros((a,b), dtype = int)\n",
    "\n",
    "a = 3\n",
    "b = 2\n",
    "arr3_f = arr3(a,b)\n",
    "print(\"Random array is:\\n\", arr3_f)"
   ]
  },
  {
   "cell_type": "code",
   "execution_count": null,
   "id": "ba942798",
   "metadata": {},
   "outputs": [],
   "source": [
    "###OR"
   ]
  },
  {
   "cell_type": "code",
   "execution_count": null,
   "id": "ed83c813",
   "metadata": {},
   "outputs": [],
   "source": []
  }
 ],
 "metadata": {
  "kernelspec": {
   "display_name": "Python 3 (ipykernel)",
   "language": "python",
   "name": "python3"
  },
  "language_info": {
   "codemirror_mode": {
    "name": "ipython",
    "version": 3
   },
   "file_extension": ".py",
   "mimetype": "text/x-python",
   "name": "python",
   "nbconvert_exporter": "python",
   "pygments_lexer": "ipython3",
   "version": "3.9.13"
  }
 },
 "nbformat": 4,
 "nbformat_minor": 5
}

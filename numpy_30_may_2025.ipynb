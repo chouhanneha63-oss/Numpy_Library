{
 "cells": [
  {
   "cell_type": "code",
   "execution_count": 14,
   "id": "6a818a89",
   "metadata": {},
   "outputs": [],
   "source": [
    "import numpy as np"
   ]
  },
  {
   "cell_type": "code",
   "execution_count": 2,
   "id": "8b091ad2",
   "metadata": {},
   "outputs": [],
   "source": [
    "def sigmoid_fn(array):\n",
    "    return 1/(1+np.exp(-(array)))"
   ]
  },
  {
   "cell_type": "code",
   "execution_count": 15,
   "id": "b65e9250",
   "metadata": {},
   "outputs": [
    {
     "data": {
      "text/plain": [
       "array([0, 1, 2, 3, 4, 5, 6, 7, 8, 9])"
      ]
     },
     "execution_count": 15,
     "metadata": {},
     "output_type": "execute_result"
    }
   ],
   "source": [
    "a = np.arange(10)\n",
    "a"
   ]
  },
  {
   "cell_type": "code",
   "execution_count": 16,
   "id": "b07634d8",
   "metadata": {},
   "outputs": [
    {
     "data": {
      "text/plain": [
       "array([0.5       , 0.73105858, 0.88079708, 0.95257413, 0.98201379,\n",
       "       0.99330715, 0.99752738, 0.99908895, 0.99966465, 0.99987661])"
      ]
     },
     "execution_count": 16,
     "metadata": {},
     "output_type": "execute_result"
    }
   ],
   "source": [
    "sigmoid_fn(a)"
   ]
  },
  {
   "cell_type": "code",
   "execution_count": 64,
   "id": "6649f501",
   "metadata": {},
   "outputs": [],
   "source": [
    "def si(p,r,t):\n",
    "    return (p*r*t)/100"
   ]
  },
  {
   "cell_type": "code",
   "execution_count": 17,
   "id": "cf69f3e0",
   "metadata": {},
   "outputs": [
    {
     "data": {
      "text/plain": [
       "60.0"
      ]
     },
     "execution_count": 17,
     "metadata": {},
     "output_type": "execute_result"
    }
   ],
   "source": [
    "si(1000,2,3)"
   ]
  },
  {
   "cell_type": "code",
   "execution_count": 24,
   "id": "108693f2",
   "metadata": {},
   "outputs": [
    {
     "data": {
      "text/plain": [
       "array([0.34621482, 0.73208621, 0.67069963, 0.58264374, 0.69478528,\n",
       "       0.29462413, 0.84560907, 0.9876336 , 0.74385048, 0.13659781,\n",
       "       0.77897181, 0.73723899, 0.93987163, 0.28990212, 0.31212808])"
      ]
     },
     "execution_count": 24,
     "metadata": {},
     "output_type": "execute_result"
    }
   ],
   "source": [
    "a = np.random.random(15)\n",
    "a"
   ]
  },
  {
   "cell_type": "code",
   "execution_count": 29,
   "id": "78a1ed1d",
   "metadata": {},
   "outputs": [
    {
     "data": {
      "text/plain": [
       "array([34.62148189, 73.20862084, 67.06996346, 58.26437378, 69.47852819,\n",
       "       29.4624128 , 84.56090705, 98.7633605 , 74.38504802, 13.65978128,\n",
       "       77.89718067, 73.72389888, 93.98716259, 28.99021167, 31.21280829])"
      ]
     },
     "execution_count": 29,
     "metadata": {},
     "output_type": "execute_result"
    }
   ],
   "source": [
    "a*100"
   ]
  },
  {
   "cell_type": "code",
   "execution_count": 37,
   "id": "bf7fe1c0",
   "metadata": {},
   "outputs": [
    {
     "data": {
      "text/plain": [
       "array([53, 29, 89, 15,  7,  6, 16, 23, 95, 57,  3, 89, 25, 65, 25])"
      ]
     },
     "execution_count": 37,
     "metadata": {},
     "output_type": "execute_result"
    }
   ],
   "source": [
    "a= np.random.randint(1,100,15)      #or np.random.randint(1,100,size=15) or np.random.randint(1,100,size=(15))\n",
    "a"
   ]
  },
  {
   "cell_type": "code",
   "execution_count": 40,
   "id": "3fcc7197",
   "metadata": {},
   "outputs": [
    {
     "data": {
      "text/plain": [
       "array([ 3,  6,  7, 15, 16, 23, 25, 25, 29, 53, 57, 65, 89, 89, 95])"
      ]
     },
     "execution_count": 40,
     "metadata": {},
     "output_type": "execute_result"
    }
   ],
   "source": [
    "np.sort(a)  # or s = np.sort(a) \n",
    "            #    s"
   ]
  },
  {
   "cell_type": "code",
   "execution_count": 41,
   "id": "c66e8fa7",
   "metadata": {},
   "outputs": [
    {
     "data": {
      "text/plain": [
       "array([95, 89, 89, 65, 57, 53, 29, 25, 25, 23, 16, 15,  7,  6,  3])"
      ]
     },
     "execution_count": 41,
     "metadata": {},
     "output_type": "execute_result"
    }
   ],
   "source": [
    "np.sort(a)[::-1]     #s[::-1]\n"
   ]
  },
  {
   "cell_type": "code",
   "execution_count": 42,
   "id": "3be0956e",
   "metadata": {},
   "outputs": [
    {
     "data": {
      "text/plain": [
       "array([[ 1, 92, 96, 68],\n",
       "       [71, 57,  8, 82],\n",
       "       [21, 49, 69, 22],\n",
       "       [40, 52, 75,  9],\n",
       "       [62, 29, 83, 92],\n",
       "       [16, 65, 86, 24]])"
      ]
     },
     "execution_count": 42,
     "metadata": {},
     "output_type": "execute_result"
    }
   ],
   "source": [
    "b = np.random.randint(1,100,24).reshape(6,4)        #or b = np.random.randint(1,100,size=(6,4))\n",
    "b"
   ]
  },
  {
   "cell_type": "code",
   "execution_count": 43,
   "id": "5165d5b6",
   "metadata": {},
   "outputs": [
    {
     "data": {
      "text/plain": [
       "array([[ 1, 68, 92, 96],\n",
       "       [ 8, 57, 71, 82],\n",
       "       [21, 22, 49, 69],\n",
       "       [ 9, 40, 52, 75],\n",
       "       [29, 62, 83, 92],\n",
       "       [16, 24, 65, 86]])"
      ]
     },
     "execution_count": 43,
     "metadata": {},
     "output_type": "execute_result"
    }
   ],
   "source": [
    "np.sort(b)            #by default axis is 1 means row's data is getting sorted"
   ]
  },
  {
   "cell_type": "code",
   "execution_count": 44,
   "id": "0cc475cd",
   "metadata": {},
   "outputs": [
    {
     "data": {
      "text/plain": [
       "array([[ 1, 29,  8,  9],\n",
       "       [16, 49, 69, 22],\n",
       "       [21, 52, 75, 24],\n",
       "       [40, 57, 83, 68],\n",
       "       [62, 65, 86, 82],\n",
       "       [71, 92, 96, 92]])"
      ]
     },
     "execution_count": 44,
     "metadata": {},
     "output_type": "execute_result"
    }
   ],
   "source": [
    "np.sort(b,axis=0)   # axis = 0 means column's data is getting sorted"
   ]
  },
  {
   "cell_type": "code",
   "execution_count": 45,
   "id": "7de8fc78",
   "metadata": {},
   "outputs": [
    {
     "data": {
      "text/plain": [
       "array([[ 1, 68, 92, 96],\n",
       "       [ 8, 57, 71, 82],\n",
       "       [21, 22, 49, 69],\n",
       "       [ 9, 40, 52, 75],\n",
       "       [29, 62, 83, 92],\n",
       "       [16, 24, 65, 86]])"
      ]
     },
     "execution_count": 45,
     "metadata": {},
     "output_type": "execute_result"
    }
   ],
   "source": [
    "np.sort(b,axis=1)"
   ]
  },
  {
   "cell_type": "code",
   "execution_count": 46,
   "id": "81950d0a",
   "metadata": {},
   "outputs": [
    {
     "data": {
      "text/plain": [
       "array([ 3,  6,  7, 15, 16, 23, 25, 25, 29, 53, 57, 65, 89, 89, 95])"
      ]
     },
     "execution_count": 46,
     "metadata": {},
     "output_type": "execute_result"
    }
   ],
   "source": [
    "a"
   ]
  },
  {
   "cell_type": "code",
   "execution_count": 47,
   "id": "9eded9ec",
   "metadata": {},
   "outputs": [
    {
     "data": {
      "text/plain": [
       "array([  3,   6,   7,  15,  16,  23,  25,  25,  29,  53,  57,  65,  89,\n",
       "        89,  95, 100])"
      ]
     },
     "execution_count": 47,
     "metadata": {},
     "output_type": "execute_result"
    }
   ],
   "source": [
    "np.append(a,100)"
   ]
  },
  {
   "cell_type": "code",
   "execution_count": 48,
   "id": "05dcf5de",
   "metadata": {},
   "outputs": [],
   "source": [
    "a[3] = 100"
   ]
  },
  {
   "cell_type": "code",
   "execution_count": 49,
   "id": "23e77ff1",
   "metadata": {},
   "outputs": [
    {
     "data": {
      "text/plain": [
       "array([  3,   6,   7, 100,  16,  23,  25,  25,  29,  53,  57,  65,  89,\n",
       "        89,  95])"
      ]
     },
     "execution_count": 49,
     "metadata": {},
     "output_type": "execute_result"
    }
   ],
   "source": [
    "a"
   ]
  },
  {
   "cell_type": "code",
   "execution_count": 50,
   "id": "15660c5d",
   "metadata": {},
   "outputs": [
    {
     "data": {
      "text/plain": [
       "array([[ 1, 92, 96, 68],\n",
       "       [71, 57,  8, 82],\n",
       "       [21, 49, 69, 22],\n",
       "       [40, 52, 75,  9],\n",
       "       [62, 29, 83, 92],\n",
       "       [16, 65, 86, 24]])"
      ]
     },
     "execution_count": 50,
     "metadata": {},
     "output_type": "execute_result"
    }
   ],
   "source": [
    "b"
   ]
  },
  {
   "cell_type": "code",
   "execution_count": 78,
   "id": "f7bf738a",
   "metadata": {},
   "outputs": [
    {
     "data": {
      "text/plain": [
       "(6, 4)"
      ]
     },
     "execution_count": 78,
     "metadata": {},
     "output_type": "execute_result"
    }
   ],
   "source": [
    "b.shape"
   ]
  },
  {
   "cell_type": "code",
   "execution_count": 79,
   "id": "17e54319",
   "metadata": {},
   "outputs": [
    {
     "data": {
      "text/plain": [
       "6"
      ]
     },
     "execution_count": 79,
     "metadata": {},
     "output_type": "execute_result"
    }
   ],
   "source": [
    "b.shape[0]"
   ]
  },
  {
   "cell_type": "code",
   "execution_count": 80,
   "id": "78d79e64",
   "metadata": {},
   "outputs": [
    {
     "data": {
      "text/plain": [
       "4"
      ]
     },
     "execution_count": 80,
     "metadata": {},
     "output_type": "execute_result"
    }
   ],
   "source": [
    "b.shape[1]"
   ]
  },
  {
   "cell_type": "code",
   "execution_count": 81,
   "id": "fe00e79a",
   "metadata": {},
   "outputs": [
    {
     "data": {
      "text/plain": [
       "array([[0, 1, 2],\n",
       "       [3, 4, 5]])"
      ]
     },
     "execution_count": 81,
     "metadata": {},
     "output_type": "execute_result"
    }
   ],
   "source": [
    "x = np.arange(6).reshape(2,3)\n",
    "x"
   ]
  },
  {
   "cell_type": "code",
   "execution_count": 82,
   "id": "8d9e9f1b",
   "metadata": {},
   "outputs": [
    {
     "data": {
      "text/plain": [
       "array([[ 6,  7,  8],\n",
       "       [ 9, 10, 11]])"
      ]
     },
     "execution_count": 82,
     "metadata": {},
     "output_type": "execute_result"
    }
   ],
   "source": [
    "y = np.arange(6,12).reshape(2,3)\n",
    "y"
   ]
  },
  {
   "cell_type": "code",
   "execution_count": 83,
   "id": "269db8c8",
   "metadata": {},
   "outputs": [
    {
     "data": {
      "text/plain": [
       "array([[ 0,  1,  2],\n",
       "       [ 3,  4,  5],\n",
       "       [ 6,  7,  8],\n",
       "       [ 9, 10, 11]])"
      ]
     },
     "execution_count": 83,
     "metadata": {},
     "output_type": "execute_result"
    }
   ],
   "source": [
    "np.concatenate((x,y))"
   ]
  },
  {
   "cell_type": "code",
   "execution_count": 84,
   "id": "888a651b",
   "metadata": {},
   "outputs": [
    {
     "data": {
      "text/plain": [
       "array([[ 0,  1,  2],\n",
       "       [ 3,  4,  5],\n",
       "       [ 6,  7,  8],\n",
       "       [ 9, 10, 11]])"
      ]
     },
     "execution_count": 84,
     "metadata": {},
     "output_type": "execute_result"
    }
   ],
   "source": [
    "np.concatenate((x,y),axis=0)"
   ]
  },
  {
   "cell_type": "code",
   "execution_count": 85,
   "id": "a91833c0",
   "metadata": {},
   "outputs": [
    {
     "data": {
      "text/plain": [
       "array([[ 0,  1,  2,  6,  7,  8],\n",
       "       [ 3,  4,  5,  9, 10, 11]])"
      ]
     },
     "execution_count": 85,
     "metadata": {},
     "output_type": "execute_result"
    }
   ],
   "source": [
    "np.concatenate((x,y),axis=1)"
   ]
  },
  {
   "cell_type": "code",
   "execution_count": 51,
   "id": "3bf8de7e",
   "metadata": {},
   "outputs": [
    {
     "data": {
      "text/plain": [
       "array([  3,   6,   7, 100,  16,  23,  25,  25,  29,  53,  57,  65,  89,\n",
       "        89,  95])"
      ]
     },
     "execution_count": 51,
     "metadata": {},
     "output_type": "execute_result"
    }
   ],
   "source": [
    "a"
   ]
  },
  {
   "cell_type": "code",
   "execution_count": 52,
   "id": "bbba86f2",
   "metadata": {},
   "outputs": [
    {
     "data": {
      "text/plain": [
       "array([  3,   6,   7,  16,  23,  25,  29,  53,  57,  65,  89,  95, 100])"
      ]
     },
     "execution_count": 52,
     "metadata": {},
     "output_type": "execute_result"
    }
   ],
   "source": [
    "np.unique(a) "
   ]
  },
  {
   "cell_type": "code",
   "execution_count": 53,
   "id": "e94803d9",
   "metadata": {},
   "outputs": [
    {
     "data": {
      "text/plain": [
       "array([  3,   6,   7, 100,  16,  23,  25,  25,  29,  53,  57,  65,  89,\n",
       "        89,  95])"
      ]
     },
     "execution_count": 53,
     "metadata": {},
     "output_type": "execute_result"
    }
   ],
   "source": [
    "a"
   ]
  },
  {
   "cell_type": "code",
   "execution_count": 54,
   "id": "7e235d67",
   "metadata": {},
   "outputs": [
    {
     "data": {
      "text/plain": [
       "(15,)"
      ]
     },
     "execution_count": 54,
     "metadata": {},
     "output_type": "execute_result"
    }
   ],
   "source": [
    "a.shape"
   ]
  },
  {
   "cell_type": "code",
   "execution_count": 56,
   "id": "53e1103a",
   "metadata": {},
   "outputs": [
    {
     "data": {
      "text/plain": [
       "array([[  3,   6,   7, 100,  16,  23,  25,  25,  29,  53,  57,  65,  89,\n",
       "         89,  95]])"
      ]
     },
     "execution_count": 56,
     "metadata": {},
     "output_type": "execute_result"
    }
   ],
   "source": [
    "np.expand_dims(a,axis=0)"
   ]
  },
  {
   "cell_type": "code",
   "execution_count": 57,
   "id": "3815b5c8",
   "metadata": {},
   "outputs": [
    {
     "data": {
      "text/plain": [
       "(1, 15)"
      ]
     },
     "execution_count": 57,
     "metadata": {},
     "output_type": "execute_result"
    }
   ],
   "source": [
    "np.expand_dims(a,axis=0).shape"
   ]
  },
  {
   "cell_type": "code",
   "execution_count": 58,
   "id": "1187c824",
   "metadata": {},
   "outputs": [
    {
     "data": {
      "text/plain": [
       "(15, 1)"
      ]
     },
     "execution_count": 58,
     "metadata": {},
     "output_type": "execute_result"
    }
   ],
   "source": [
    "np.expand_dims(a,axis=1).shape"
   ]
  },
  {
   "cell_type": "code",
   "execution_count": 59,
   "id": "8d1bf406",
   "metadata": {},
   "outputs": [
    {
     "data": {
      "text/plain": [
       "array([  3,   6,   7, 100,  16,  23,  25,  25,  29,  53,  57,  65,  89,\n",
       "        89,  95])"
      ]
     },
     "execution_count": 59,
     "metadata": {},
     "output_type": "execute_result"
    }
   ],
   "source": [
    "a"
   ]
  },
  {
   "cell_type": "code",
   "execution_count": 60,
   "id": "f20cbd28",
   "metadata": {},
   "outputs": [
    {
     "data": {
      "text/plain": [
       "array([1, 0, 1, 0, 0, 1, 1, 1, 1, 1, 1, 1, 1, 1, 1], dtype=int32)"
      ]
     },
     "execution_count": 60,
     "metadata": {},
     "output_type": "execute_result"
    }
   ],
   "source": [
    "a%2"
   ]
  },
  {
   "cell_type": "code",
   "execution_count": 61,
   "id": "4b2d7a0d",
   "metadata": {},
   "outputs": [
    {
     "data": {
      "text/plain": [
       "array([ 1,  3,  3, 50,  8, 11, 12, 12, 14, 26, 28, 32, 44, 44, 47],\n",
       "      dtype=int32)"
      ]
     },
     "execution_count": 61,
     "metadata": {},
     "output_type": "execute_result"
    }
   ],
   "source": [
    "a//2"
   ]
  },
  {
   "cell_type": "code",
   "execution_count": 62,
   "id": "ed3b0f1d",
   "metadata": {},
   "outputs": [
    {
     "data": {
      "text/plain": [
       "array([False,  True, False,  True,  True, False, False, False, False,\n",
       "       False, False, False, False, False, False])"
      ]
     },
     "execution_count": 62,
     "metadata": {},
     "output_type": "execute_result"
    }
   ],
   "source": [
    "a%2==0"
   ]
  },
  {
   "cell_type": "code",
   "execution_count": 63,
   "id": "7d3afe72",
   "metadata": {},
   "outputs": [
    {
     "data": {
      "text/plain": [
       "array([  6, 100,  16])"
      ]
     },
     "execution_count": 63,
     "metadata": {},
     "output_type": "execute_result"
    }
   ],
   "source": [
    "##where:-\n",
    "a[a%2==0]"
   ]
  },
  {
   "cell_type": "code",
   "execution_count": 65,
   "id": "f01d0cf6",
   "metadata": {},
   "outputs": [
    {
     "data": {
      "text/plain": [
       "array([  3,   6,   7, 100,  16,  23,  25,  25,  29,  53,  57,  65,  89,\n",
       "        89,  95])"
      ]
     },
     "execution_count": 65,
     "metadata": {},
     "output_type": "execute_result"
    }
   ],
   "source": [
    "a"
   ]
  },
  {
   "cell_type": "code",
   "execution_count": 66,
   "id": "c77a30fe",
   "metadata": {},
   "outputs": [
    {
     "data": {
      "text/plain": [
       "(array([1, 3, 4], dtype=int64),)"
      ]
     },
     "execution_count": 66,
     "metadata": {},
     "output_type": "execute_result"
    }
   ],
   "source": [
    "np.where(a%2==0)  ## Imp to remember \"where\" function example.It returns the index of the elements which are divisible by 2"
   ]
  },
  {
   "cell_type": "code",
   "execution_count": 67,
   "id": "122e9797",
   "metadata": {},
   "outputs": [
    {
     "data": {
      "text/plain": [
       "array([  6, 100,  16])"
      ]
     },
     "execution_count": 67,
     "metadata": {},
     "output_type": "execute_result"
    }
   ],
   "source": [
    "a[np.where(a%2==0)]  ## Imp to remember If we put the above code in array it will give us values instead of index"
   ]
  },
  {
   "cell_type": "code",
   "execution_count": 68,
   "id": "08b452d9",
   "metadata": {},
   "outputs": [
    {
     "data": {
      "text/plain": [
       "3"
      ]
     },
     "execution_count": 68,
     "metadata": {},
     "output_type": "execute_result"
    }
   ],
   "source": [
    "np.argmax(a)    ## It returns the INDEX of maximum value of an array"
   ]
  },
  {
   "cell_type": "code",
   "execution_count": 69,
   "id": "2179f838",
   "metadata": {},
   "outputs": [
    {
     "data": {
      "text/plain": [
       "0"
      ]
     },
     "execution_count": 69,
     "metadata": {},
     "output_type": "execute_result"
    }
   ],
   "source": [
    "np.argmin(a)    ## It return the INDEX of minimum value of an array"
   ]
  },
  {
   "cell_type": "code",
   "execution_count": 77,
   "id": "a1254714",
   "metadata": {},
   "outputs": [
    {
     "data": {
      "text/plain": [
       "array([ 0,  1,  2,  4,  5,  6,  7,  8,  9, 10, 11, 12, 13, 14,  3],\n",
       "      dtype=int64)"
      ]
     },
     "execution_count": 77,
     "metadata": {},
     "output_type": "execute_result"
    }
   ],
   "source": [
    "np.argsort(a)  ## It first sorts the elements in ascending order and then returns the index of that elements"
   ]
  },
  {
   "cell_type": "code",
   "execution_count": 78,
   "id": "22520687",
   "metadata": {},
   "outputs": [
    {
     "data": {
      "text/plain": [
       "3"
      ]
     },
     "execution_count": 78,
     "metadata": {},
     "output_type": "execute_result"
    }
   ],
   "source": [
    "a[np.argmin(a)]"
   ]
  },
  {
   "cell_type": "code",
   "execution_count": 72,
   "id": "0c4d6835",
   "metadata": {},
   "outputs": [
    {
     "data": {
      "text/plain": [
       "array([ 1.,  2.,  3., nan,  4., nan,  7.])"
      ]
     },
     "execution_count": 72,
     "metadata": {},
     "output_type": "execute_result"
    }
   ],
   "source": [
    "q = np.array([1,2,3,np.nan,4,np.nan,7])\n",
    "q"
   ]
  },
  {
   "cell_type": "code",
   "execution_count": 102,
   "id": "8e673653",
   "metadata": {},
   "outputs": [
    {
     "data": {
      "text/plain": [
       "array([False, False, False,  True, False,  True, False])"
      ]
     },
     "execution_count": 102,
     "metadata": {},
     "output_type": "execute_result"
    }
   ],
   "source": [
    "np.isnan(q)                                           "
   ]
  },
  {
   "cell_type": "code",
   "execution_count": 73,
   "id": "d216eae7",
   "metadata": {},
   "outputs": [
    {
     "data": {
      "text/plain": [
       "array([nan, nan])"
      ]
     },
     "execution_count": 73,
     "metadata": {},
     "output_type": "execute_result"
    }
   ],
   "source": [
    "q[np.isnan(q)]                                          "
   ]
  },
  {
   "cell_type": "code",
   "execution_count": 104,
   "id": "9e3b630c",
   "metadata": {},
   "outputs": [
    {
     "data": {
      "text/plain": [
       "array([1., 2., 3., 4., 7.])"
      ]
     },
     "execution_count": 104,
     "metadata": {},
     "output_type": "execute_result"
    }
   ],
   "source": [
    "q[~np.isnan(q)]"
   ]
  },
  {
   "cell_type": "code",
   "execution_count": 105,
   "id": "8f67ed0c",
   "metadata": {},
   "outputs": [
    {
     "data": {
      "text/plain": [
       "array([20, 62,  4, 88, 27, 99, 91, 21, 68, 55])"
      ]
     },
     "execution_count": 105,
     "metadata": {},
     "output_type": "execute_result"
    }
   ],
   "source": [
    "sachin_tend = np.random.randint(1,100,10)\n",
    "sachin_tend"
   ]
  },
  {
   "cell_type": "code",
   "execution_count": 106,
   "id": "3974b0fc",
   "metadata": {},
   "outputs": [
    {
     "data": {
      "text/plain": [
       "201"
      ]
     },
     "execution_count": 106,
     "metadata": {},
     "output_type": "execute_result"
    }
   ],
   "source": [
    "sachin_tend[0] + sachin_tend[1] + sachin_tend[2] + sachin_tend[3] + sachin_tend[4]"
   ]
  },
  {
   "cell_type": "code",
   "execution_count": 107,
   "id": "9ea86a58",
   "metadata": {},
   "outputs": [
    {
     "data": {
      "text/plain": [
       "array([ 20,  82,  86, 174, 201, 300, 391, 412, 480, 535], dtype=int32)"
      ]
     },
     "execution_count": 107,
     "metadata": {},
     "output_type": "execute_result"
    }
   ],
   "source": [
    "np.cumsum(sachin_tend)"
   ]
  },
  {
   "cell_type": "code",
   "execution_count": 108,
   "id": "1a906499",
   "metadata": {},
   "outputs": [
    {
     "data": {
      "text/plain": [
       "201"
      ]
     },
     "execution_count": 108,
     "metadata": {},
     "output_type": "execute_result"
    }
   ],
   "source": [
    "np.cumsum(sachin_tend)[4]"
   ]
  },
  {
   "cell_type": "code",
   "execution_count": 109,
   "id": "16dac3d7",
   "metadata": {},
   "outputs": [
    {
     "data": {
      "text/plain": [
       "array([         20,        1240,        4960,      436480,    11784960,\n",
       "        1166711040, -1203477760,   496770816,  -579322880, -1797987328],\n",
       "      dtype=int32)"
      ]
     },
     "execution_count": 109,
     "metadata": {},
     "output_type": "execute_result"
    }
   ],
   "source": [
    "np.cumprod(sachin_tend)"
   ]
  },
  {
   "cell_type": "code",
   "execution_count": 110,
   "id": "52efa075",
   "metadata": {},
   "outputs": [
    {
     "data": {
      "text/plain": [
       "array([ 45,  23,  51, 100,  67,  88,  51,  83,  89,  18,  45,  45,  82,\n",
       "        99,   6])"
      ]
     },
     "execution_count": 110,
     "metadata": {},
     "output_type": "execute_result"
    }
   ],
   "source": [
    "a"
   ]
  },
  {
   "cell_type": "code",
   "execution_count": 111,
   "id": "6a94e928",
   "metadata": {},
   "outputs": [
    {
     "data": {
      "text/plain": [
       "array([False, False, False,  True, False, False, False, False, False,\n",
       "       False, False, False, False, False, False])"
      ]
     },
     "execution_count": 111,
     "metadata": {},
     "output_type": "execute_result"
    }
   ],
   "source": [
    "np.isin(a,[70,19,100])              "
   ]
  },
  {
   "cell_type": "code",
   "execution_count": 112,
   "id": "309cc353",
   "metadata": {},
   "outputs": [
    {
     "data": {
      "text/plain": [
       "array([100])"
      ]
     },
     "execution_count": 112,
     "metadata": {},
     "output_type": "execute_result"
    }
   ],
   "source": [
    "a[np.isin(a,[70,19,100])]"
   ]
  },
  {
   "cell_type": "code",
   "execution_count": 123,
   "id": "3d47ee60",
   "metadata": {},
   "outputs": [
    {
     "name": "stdout",
     "output_type": "stream",
     "text": [
      "[3]\n"
     ]
    }
   ],
   "source": [
    "index = np.where(np.isin(a, [70, 19, 100]))[0]   ### Where is used to know the index\n",
    "print(index)                                  "
   ]
  },
  {
   "cell_type": "code",
   "execution_count": 124,
   "id": "6eb953fc",
   "metadata": {},
   "outputs": [
    {
     "name": "stdout",
     "output_type": "stream",
     "text": [
      "Index 3 has value 100\n"
     ]
    }
   ],
   "source": [
    "#IMPORTANT CONCEPT:\n",
    "#You could also go deeper and slice (if there are multiple values) like this:\n",
    "\n",
    "indices = np.where(np.isin(a, [70, 19, 100]))[0]\n",
    "for i in indices:\n",
    "    print(f\"Index {i} has value {a[i]}\")"
   ]
  },
  {
   "cell_type": "code",
   "execution_count": 113,
   "id": "8a77400d",
   "metadata": {},
   "outputs": [
    {
     "data": {
      "text/plain": [
       "array([45, 23, 51, 67, 88, 51, 83, 89, 18, 45, 45, 82, 99,  6])"
      ]
     },
     "execution_count": 113,
     "metadata": {},
     "output_type": "execute_result"
    }
   ],
   "source": [
    "a[~np.isin(a,[70,19,100])]"
   ]
  },
  {
   "cell_type": "code",
   "execution_count": 114,
   "id": "38aaa621",
   "metadata": {},
   "outputs": [
    {
     "data": {
      "text/plain": [
       "array([ 45, 200,  51, 100,  67, 300,  51, 400,  89,  18,  45,  45,  82,\n",
       "        99,   6])"
      ]
     },
     "execution_count": 114,
     "metadata": {},
     "output_type": "execute_result"
    }
   ],
   "source": [
    "np.put(a,[1,5,7],[200,300,400])   ## \"put\" is used to replace more than one elements(with 200, 300,400)\n",
    "a                                 ##  of an array at a particular index(i.e. 1,5,7)"
   ]
  },
  {
   "cell_type": "code",
   "execution_count": 115,
   "id": "1c7df662",
   "metadata": {},
   "outputs": [
    {
     "data": {
      "text/plain": [
       "array([ 45,  67, 300,  51, 400,  89,  18,  45,  45,  82,  99,   6])"
      ]
     },
     "execution_count": 115,
     "metadata": {},
     "output_type": "execute_result"
    }
   ],
   "source": [
    "np.delete(a,[1,2,3])           ## It deletes the elements at specified index"
   ]
  },
  {
   "cell_type": "code",
   "execution_count": 116,
   "id": "3258734f",
   "metadata": {},
   "outputs": [
    {
     "data": {
      "text/plain": [
       "array([45, 60, 51, 60, 60, 60, 51, 60, 60, 30, 45, 45, 60, 60, 30])"
      ]
     },
     "execution_count": 116,
     "metadata": {},
     "output_type": "execute_result"
    }
   ],
   "source": [
    "np.clip(a,a_min=30,a_max=60)            "
   ]
  },
  {
   "cell_type": "code",
   "execution_count": 117,
   "id": "f2443c98",
   "metadata": {},
   "outputs": [
    {
     "data": {
      "text/plain": [
       "array([ 45, 200,  51, 100,  67, 300,  51, 400,  89,  18,  45,  45,  82,\n",
       "        99,   6])"
      ]
     },
     "execution_count": 117,
     "metadata": {},
     "output_type": "execute_result"
    }
   ],
   "source": [
    "a"
   ]
  },
  {
   "cell_type": "code",
   "execution_count": 118,
   "id": "4cb4c1bd",
   "metadata": {},
   "outputs": [
    {
     "data": {
      "text/plain": [
       "array([  6,  99,  82,  45,  45,  18,  89, 400,  51, 300,  67, 100,  51,\n",
       "       200,  45])"
      ]
     },
     "execution_count": 118,
     "metadata": {},
     "output_type": "execute_result"
    }
   ],
   "source": [
    "np.flip(a)"
   ]
  },
  {
   "cell_type": "code",
   "execution_count": 5,
   "id": "a4b677cc",
   "metadata": {},
   "outputs": [],
   "source": [
    "def si(p,r,t):\n",
    "    return (p*r*t)/100"
   ]
  },
  {
   "cell_type": "code",
   "execution_count": 13,
   "id": "d555933e",
   "metadata": {},
   "outputs": [
    {
     "data": {
      "text/plain": [
       "60.0"
      ]
     },
     "execution_count": 13,
     "metadata": {},
     "output_type": "execute_result"
    }
   ],
   "source": [
    "p = 1000\n",
    "r= 2\n",
    "t = 3\n",
    "si(p,r,t)"
   ]
  },
  {
   "cell_type": "code",
   "execution_count": 7,
   "id": "c2dbf5ec",
   "metadata": {},
   "outputs": [
    {
     "ename": "SyntaxError",
     "evalue": "invalid syntax (3088396893.py, line 1)",
     "output_type": "error",
     "traceback": [
      "\u001b[1;36m  File \u001b[1;32m\"C:\\Users\\HP\\AppData\\Local\\Temp\\ipykernel_15256\\3088396893.py\"\u001b[1;36m, line \u001b[1;32m1\u001b[0m\n\u001b[1;33m    def()\u001b[0m\n\u001b[1;37m       ^\u001b[0m\n\u001b[1;31mSyntaxError\u001b[0m\u001b[1;31m:\u001b[0m invalid syntax\n"
     ]
    }
   ],
   "source": []
  },
  {
   "cell_type": "code",
   "execution_count": 79,
   "id": "dae0dd19",
   "metadata": {},
   "outputs": [
    {
     "data": {
      "text/plain": [
       "array([  3,   6,   7, 100,  16,  23,  25,  25,  29,  53,  57,  65,  89,\n",
       "        89,  95])"
      ]
     },
     "execution_count": 79,
     "metadata": {},
     "output_type": "execute_result"
    }
   ],
   "source": [
    "a"
   ]
  },
  {
   "cell_type": "code",
   "execution_count": 80,
   "id": "1d195b80",
   "metadata": {},
   "outputs": [
    {
     "data": {
      "text/plain": [
       "array([1000,    6,    7,  100,   16,   23,   25,   25,   29,   53,   57,\n",
       "         65,   89,   89,   95])"
      ]
     },
     "execution_count": 80,
     "metadata": {},
     "output_type": "execute_result"
    }
   ],
   "source": [
    "a[0] = 1000\n",
    "a"
   ]
  },
  {
   "cell_type": "code",
   "execution_count": null,
   "id": "8c68babc",
   "metadata": {},
   "outputs": [],
   "source": []
  }
 ],
 "metadata": {
  "kernelspec": {
   "display_name": "Python 3 (ipykernel)",
   "language": "python",
   "name": "python3"
  },
  "language_info": {
   "codemirror_mode": {
    "name": "ipython",
    "version": 3
   },
   "file_extension": ".py",
   "mimetype": "text/x-python",
   "name": "python",
   "nbconvert_exporter": "python",
   "pygments_lexer": "ipython3",
   "version": "3.9.13"
  }
 },
 "nbformat": 4,
 "nbformat_minor": 5
}
